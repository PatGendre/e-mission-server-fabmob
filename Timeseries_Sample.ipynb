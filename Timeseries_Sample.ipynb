{
 "cells": [
  {
   "cell_type": "markdown",
   "metadata": {},
   "source": [
    "In order to run this notebook with the correct PYTHONPATH, you can use\n",
    "```\n",
    "$ ./e-mission-jupyter.bash notebook\n",
    "```"
   ]
  },
  {
   "cell_type": "markdown",
   "metadata": {},
   "source": [
    "This notebook makes heavy use of the following python libraries.\n",
    "- `pandas`: from the python computing stack (http://pandas.pydata.org/pandas-docs/stable/)\n",
    "- `geojson`: standard JSON representation of geographic data (http://geojson.org/)\n",
    "- `folium`: (https://github.com/python-visualization/folium) python bridge to leaflet (http://leafletjs.com/)"
   ]
  },
  {
   "cell_type": "markdown",
   "metadata": {},
   "source": [
    "### Pick a user to work with ###"
   ]
  },
  {
   "cell_type": "code",
   "execution_count": 1,
   "metadata": {},
   "outputs": [
    {
     "data": {
      "text/plain": [
       "'/var/emission/e-mission-server'"
      ]
     },
     "execution_count": 1,
     "metadata": {},
     "output_type": "execute_result"
    }
   ],
   "source": [
    "pwd"
   ]
  },
  {
   "cell_type": "code",
   "execution_count": 2,
   "metadata": {
    "scrolled": true
   },
   "outputs": [
    {
     "name": "stdout",
     "output_type": "stream",
     "text": [
      "storage not configured, falling back to sample, default configuration\n",
      "Connecting to database URL localhost\n"
     ]
    },
    {
     "data": {
      "text/html": [
       "<div>\n",
       "<style scoped>\n",
       "    .dataframe tbody tr th:only-of-type {\n",
       "        vertical-align: middle;\n",
       "    }\n",
       "\n",
       "    .dataframe tbody tr th {\n",
       "        vertical-align: top;\n",
       "    }\n",
       "\n",
       "    .dataframe thead th {\n",
       "        text-align: right;\n",
       "    }\n",
       "</style>\n",
       "<table border=\"1\" class=\"dataframe\">\n",
       "  <thead>\n",
       "    <tr style=\"text-align: right;\">\n",
       "      <th></th>\n",
       "      <th>user_email</th>\n",
       "      <th>uuid</th>\n",
       "    </tr>\n",
       "  </thead>\n",
       "  <tbody>\n",
       "    <tr>\n",
       "      <th>0</th>\n",
       "      <td>test_july_22</td>\n",
       "      <td>40267d4c-5fe9-423c-b18d-cde3d09c68c2</td>\n",
       "    </tr>\n",
       "    <tr>\n",
       "      <th>1</th>\n",
       "      <td>new_user_1</td>\n",
       "      <td>d0cbf849-f9b1-4ba1-83be-1a148ec56a1e</td>\n",
       "    </tr>\n",
       "    <tr>\n",
       "      <th>2</th>\n",
       "      <td>patgendre</td>\n",
       "      <td>91bc554a-4228-4afd-b2ca-be8eb7e33760</td>\n",
       "    </tr>\n",
       "    <tr>\n",
       "      <th>3</th>\n",
       "      <td>test_jul</td>\n",
       "      <td>40267d4c-5fe9-423c-b18d-cde3d09c68c2</td>\n",
       "    </tr>\n",
       "    <tr>\n",
       "      <th>4</th>\n",
       "      <td>null</td>\n",
       "      <td>eb3ef582-ae15-4b63-a29d-5ef690c1c42b</td>\n",
       "    </tr>\n",
       "    <tr>\n",
       "      <th>5</th>\n",
       "      <td>test_user_1</td>\n",
       "      <td>4aa5e987-ccce-4d6f-a845-aeb700a4b9db</td>\n",
       "    </tr>\n",
       "    <tr>\n",
       "      <th>6</th>\n",
       "      <td></td>\n",
       "      <td>dea22f09-8a53-429e-89ed-f8de55aab29a</td>\n",
       "    </tr>\n",
       "    <tr>\n",
       "      <th>7</th>\n",
       "      <td>patgendre94@gmail.com</td>\n",
       "      <td>7a467c0f-b13a-4070-af58-44a921826c88</td>\n",
       "    </tr>\n",
       "    <tr>\n",
       "      <th>8</th>\n",
       "      <td>fabrice.hasiak@cerema.fr</td>\n",
       "      <td>a224fa8a-3a86-4140-ae50-beab3f5cf70a</td>\n",
       "    </tr>\n",
       "    <tr>\n",
       "      <th>9</th>\n",
       "      <td>transportsdufutur@gmail.com</td>\n",
       "      <td>ce51579f-42cf-4d97-a1ce-fa132c791ea9</td>\n",
       "    </tr>\n",
       "    <tr>\n",
       "      <th>10</th>\n",
       "      <td>ayoub.benyahya@nokia.com</td>\n",
       "      <td>440ec5f9-b13d-4ab8-9aab-d4c220a55d0e</td>\n",
       "    </tr>\n",
       "    <tr>\n",
       "      <th>11</th>\n",
       "      <td>florian@lainez.fr</td>\n",
       "      <td>4b890037-7198-4d08-9baf-4661a2432533</td>\n",
       "    </tr>\n",
       "  </tbody>\n",
       "</table>\n",
       "</div>"
      ],
      "text/plain": [
       "                     user_email                                  uuid\n",
       "0                  test_july_22  40267d4c-5fe9-423c-b18d-cde3d09c68c2\n",
       "1                    new_user_1  d0cbf849-f9b1-4ba1-83be-1a148ec56a1e\n",
       "2                     patgendre  91bc554a-4228-4afd-b2ca-be8eb7e33760\n",
       "3                      test_jul  40267d4c-5fe9-423c-b18d-cde3d09c68c2\n",
       "4                          null  eb3ef582-ae15-4b63-a29d-5ef690c1c42b\n",
       "5                   test_user_1  4aa5e987-ccce-4d6f-a845-aeb700a4b9db\n",
       "6                                dea22f09-8a53-429e-89ed-f8de55aab29a\n",
       "7         patgendre94@gmail.com  7a467c0f-b13a-4070-af58-44a921826c88\n",
       "8      fabrice.hasiak@cerema.fr  a224fa8a-3a86-4140-ae50-beab3f5cf70a\n",
       "9   transportsdufutur@gmail.com  ce51579f-42cf-4d97-a1ce-fa132c791ea9\n",
       "10     ayoub.benyahya@nokia.com  440ec5f9-b13d-4ab8-9aab-d4c220a55d0e\n",
       "11            florian@lainez.fr  4b890037-7198-4d08-9baf-4661a2432533"
      ]
     },
     "execution_count": 2,
     "metadata": {},
     "output_type": "execute_result"
    }
   ],
   "source": [
    "import emission.core.get_database as edb\n",
    "import pandas as pd\n",
    "all_users = pd.DataFrame(list(edb.get_uuid_db().find({}, {\"user_email\":1, \"uuid\": 1, \"_id\": 0})))\n",
    "all_users"
   ]
  },
  {
   "cell_type": "code",
   "execution_count": null,
   "metadata": {},
   "outputs": [],
   "source": []
  },
  {
   "cell_type": "code",
   "execution_count": null,
   "metadata": {},
   "outputs": [],
   "source": []
  },
  {
   "cell_type": "code",
   "execution_count": 3,
   "metadata": {},
   "outputs": [],
   "source": [
    "test_user_id_2 = all_users.iloc[2].uuid\n",
    "test_user_id_7 = all_users.iloc[7].uuid"
   ]
  },
  {
   "cell_type": "code",
   "execution_count": 4,
   "metadata": {},
   "outputs": [],
   "source": [
    "from uuid import UUID"
   ]
  },
  {
   "cell_type": "code",
   "execution_count": 4,
   "metadata": {},
   "outputs": [],
   "source": [
    "test_user_id = all_users.iloc[0].uuid # replace with UUID from above"
   ]
  },
  {
   "cell_type": "markdown",
   "metadata": {},
   "source": [
    "If you want to work across multiple users, just do the same thing again"
   ]
  },
  {
   "cell_type": "code",
   "execution_count": 11,
   "metadata": {},
   "outputs": [
    {
     "name": "stdout",
     "output_type": "stream",
     "text": [
      "tre\n"
     ]
    }
   ],
   "source": [
    "print(\"tre\")"
   ]
  },
  {
   "cell_type": "markdown",
   "metadata": {},
   "source": [
    "### Preferred access technique"
   ]
  },
  {
   "cell_type": "markdown",
   "metadata": {},
   "source": [
    "The preferred technique to access wrapper objects from the timeseries is to use the abstract timeseries interface. This makes it easier for us to switch to alternative timeseries implementations later. The timeseries is conceptually a set of streams, one for each of the types, primarily indexed by time. So you can query for all entries of a particular time within a specified time range."
   ]
  },
  {
   "cell_type": "code",
   "execution_count": 5,
   "metadata": {},
   "outputs": [],
   "source": [
    "import emission.storage.timeseries.abstract_timeseries as esta\n",
    "import emission.storage.decorations.analysis_timeseries_queries as esda\n",
    "import emission.core.wrapper.entry as ecwe\n",
    "import emission.storage.decorations.trip_queries as esdt\n",
    "import emission.storage.timeseries.timequery as estt"
   ]
  },
  {
   "cell_type": "code",
   "execution_count": 6,
   "metadata": {},
   "outputs": [
    {
     "name": "stdout",
     "output_type": "stream",
     "text": [
      "91bc554a-4228-4afd-b2ca-be8eb7e33760\n"
     ]
    }
   ],
   "source": [
    "print(test_user_id_2)\n",
    "ts_2 = esta.TimeSeries.get_time_series(test_user_id_2)\n",
    "ts_7 = esta.TimeSeries.get_time_series(test_user_id_7)"
   ]
  },
  {
   "cell_type": "markdown",
   "metadata": {},
   "source": [
    "#### Accessing entries directly"
   ]
  },
  {
   "cell_type": "code",
   "execution_count": 7,
   "metadata": {},
   "outputs": [],
   "source": [
    "# Get all cleaned trips for the first user\n",
    "entry_it = ts_2.find_entries([\"segmentation/raw_trip\"], time_query=None)"
   ]
  },
  {
   "cell_type": "markdown",
   "metadata": {},
   "source": [
    "All keys and their mapping to data model objects can be found in \n",
    "https://github.com/e-mission/e-mission-server/blob/master/emission/core/wrapper/entry.py"
   ]
  },
  {
   "cell_type": "code",
   "execution_count": 15,
   "metadata": {},
   "outputs": [
    {
     "name": "stdout",
     "output_type": "stream",
     "text": [
      "=== Trip: {\"coordinates\": [5.3732571, 43.4798247], \"type\": \"Point\"} -> {\"coordinates\": [5.470528, 43.5180872], \"type\": \"Point\"}\n",
      "jour-heure  LocalDate({'year': 2019, 'month': 1, 'day': 28, 'hour': 17, 'minute': 44, 'second': 31, 'weekday': 0, 'timezone': 'Europe/Brussels'}) 2347.4140045642853\n",
      "=== Trip: {\"coordinates\": [5.470528, 43.5180872], \"type\": \"Point\"} -> {\"coordinates\": [5.4705162, 43.518066], \"type\": \"Point\"}\n",
      "jour-heure  LocalDate({'year': 2019, 'month': 1, 'day': 28, 'hour': 18, 'minute': 26, 'second': 8, 'weekday': 0, 'timezone': 'Europe/Brussels'}) 1216.2246940135956\n",
      "=== Trip: {\"coordinates\": [5.4657783, 43.5178936], \"type\": \"Point\"} -> {\"coordinates\": [5.4703689, 43.5181434], \"type\": \"Point\"}\n",
      "jour-heure  LocalDate({'year': 2019, 'month': 1, 'day': 30, 'hour': 19, 'minute': 52, 'second': 40, 'weekday': 2, 'timezone': 'Europe/Brussels'}) 1305.3540000915527\n",
      "=== Trip: {\"coordinates\": [5.4660641, 43.5177212], \"type\": \"Point\"} -> {\"coordinates\": [5.3736241, 43.4918444], \"type\": \"Point\"}\n",
      "jour-heure  LocalDate({'year': 2019, 'month': 1, 'day': 31, 'hour': 8, 'minute': 23, 'second': 0, 'weekday': 3, 'timezone': 'Europe/Brussels'}) 1382.9969999790192\n"
     ]
    }
   ],
   "source": [
    "# recherche des tracés d'iti user 2 et 7 (patgendre)\n",
    "entry_rawtrips = ts_2.find_entries([\"analysis/cleaned_trip\"], time_query=None)\n",
    "for ct in entry_rawtrips:\n",
    "    cte = ecwe.Entry(ct)\n",
    "    print(\"=== Trip:\", cte.data.start_loc, \"->\", cte.data.end_loc)\n",
    "    print (\"jour-heure \",cte.data.start_local_dt, cte.data.duration)"
   ]
  },
  {
   "cell_type": "code",
   "execution_count": 19,
   "metadata": {},
   "outputs": [],
   "source": [
    "for ct in entry_it:\n",
    "    cte = ecwe.Entry(ct)\n",
    "    print(\"=== Trip:\", cte.data.start_loc, \"->\", cte.data.end_loc)\n",
    "    print (\"jour-heure \",cte.data.start_local_dt, cte.data.duration)\n",
    "    section_it = esdt.get_sections_for_trip(\"analysis/cleaned_section\", test_user_id_7, cte.get_id())\n",
    "    for sec in section_it:\n",
    "        print(\"  --- Section:\", sec.data.start_loc, \"->\", sec.data.end_loc, \" on \", sec.data.sensed_mode)"
   ]
  },
  {
   "cell_type": "code",
   "execution_count": 9,
   "metadata": {},
   "outputs": [
    {
     "name": "stdout",
     "output_type": "stream",
     "text": [
      "Cleanedtrip({'source': 'DwellSegmentationTimeFilter', 'end_ts': 1548920763.074, 'end_local_dt': {'year': 2019, 'month': 1, 'day': 31, 'hour': 8, 'minute': 46, 'second': 3, 'weekday': 3, 'timezone': 'Europe/Brussels'}, 'end_fmt_time': '2019-01-31T08:46:03.074000+01:00', 'end_loc': {'type': 'Point', 'coordinates': [5.3736241, 43.4918444]}, 'raw_trip': ObjectId('5c5bdb604e276d4ee60eff35'), 'start_ts': 1548919380.077, 'start_local_dt': {'year': 2019, 'month': 1, 'day': 31, 'hour': 8, 'minute': 23, 'second': 0, 'weekday': 3, 'timezone': 'Europe/Brussels'}, 'start_fmt_time': '2019-01-31T08:23:00.077000+01:00', 'start_loc': {'type': 'Point', 'coordinates': [5.4660641, 43.5177212]}, 'duration': 1382.9969999790192, 'distance': 10813.725022828585, 'start_place': ObjectId('5c5bdb624e276d4ee60f003e'), 'end_place': ObjectId('5c5bdb624e276d4ee60f003f')})\n"
     ]
    }
   ],
   "source": [
    "print (cte.data)"
   ]
  },
  {
   "cell_type": "code",
   "execution_count": 18,
   "metadata": {},
   "outputs": [],
   "source": [
    "# Get all cleaned trips for the second user\n",
    "entry_it = ts_1.find_entries([\"analysis/cleaned_trip\"], time_query=None)"
   ]
  },
  {
   "cell_type": "code",
   "execution_count": 19,
   "metadata": {},
   "outputs": [],
   "source": [
    "for ct in entry_it:\n",
    "    cte = ecwe.Entry(ct)\n",
    "    print(\"=== Trip:\", cte.data.start_loc, \"->\", cte.data.end_loc)\n",
    "    section_it = esdt.get_sections_for_trip(\"analysis/cleaned_section\", test_user_id, cte.get_id())\n",
    "    for sec in section_it:\n",
    "        print(\"  --- Section:\", sec.data.start_loc, \"->\", sec.data.end_loc, \" on \", sec.data.sensed_mode)"
   ]
  },
  {
   "cell_type": "code",
   "execution_count": null,
   "metadata": {},
   "outputs": [],
   "source": [
    "# Get cleaned trips for the two users that started on 1st Aug UTC\n",
    "import arrow\n",
    "\n",
    "aug_1_tq = estt.TimeQuery(\"data.start_ts\",\n",
    "                          arrow.get(\"2017-08-01\").timestamp, # start of range\n",
    "                          arrow.get(\"2017-08-02\").timestamp)  # end of range\n",
    "entry_it = ts.find_entries([\"analysis/cleaned_trip\"], time_query=aug_1_tq)\n",
    "entry_it_2 = ts_2.find_entries([\"analysis/cleaned_trip\"], time_query=aug_1_tq)\n",
    "print(\"From %s -> %s, user %s had %d trips and user %s had %d trips\" %\n",
    "     (aug_1_tq.startTs, aug_1_tq.endTs, test_user_id, len(list(entry_it)), test_user_id_2, len(list(entry_it_2))))"
   ]
  },
  {
   "cell_type": "markdown",
   "metadata": {},
   "source": [
    "#### Accessing a dataframe"
   ]
  },
  {
   "cell_type": "code",
   "execution_count": 22,
   "metadata": {},
   "outputs": [],
   "source": [
    "# Get all cleaned trips for the first user\n",
    "ct_df_2 = ts_2.get_data_df(\"analysis/cleaned_trip\", time_query=None)\n",
    "sm_df_2 = ts_2.get_data_df(\"analysis/smoothing\", time_query=None)"
   ]
  },
  {
   "cell_type": "code",
   "execution_count": 12,
   "metadata": {},
   "outputs": [
    {
     "data": {
      "text/plain": [
       "4"
      ]
     },
     "execution_count": 12,
     "metadata": {},
     "output_type": "execute_result"
    }
   ],
   "source": [
    "len(ct_df_2)"
   ]
  },
  {
   "cell_type": "code",
   "execution_count": 23,
   "metadata": {},
   "outputs": [
    {
     "data": {
      "text/plain": [
       "Index(['_id', 'distance', 'duration', 'end_fmt_time', 'end_loc',\n",
       "       'end_local_dt_day', 'end_local_dt_hour', 'end_local_dt_minute',\n",
       "       'end_local_dt_month', 'end_local_dt_second', 'end_local_dt_timezone',\n",
       "       'end_local_dt_weekday', 'end_local_dt_year', 'end_place', 'end_ts',\n",
       "       'metadata_write_ts', 'raw_trip', 'source', 'start_fmt_time',\n",
       "       'start_loc', 'start_local_dt_day', 'start_local_dt_hour',\n",
       "       'start_local_dt_minute', 'start_local_dt_month',\n",
       "       'start_local_dt_second', 'start_local_dt_timezone',\n",
       "       'start_local_dt_weekday', 'start_local_dt_year', 'start_place',\n",
       "       'start_ts', 'user_id'],\n",
       "      dtype='object')"
      ]
     },
     "execution_count": 23,
     "metadata": {},
     "output_type": "execute_result"
    }
   ],
   "source": [
    "ct_df_2.columns"
   ]
  },
  {
   "cell_type": "code",
   "execution_count": 24,
   "metadata": {},
   "outputs": [
    {
     "data": {
      "text/html": [
       "<div>\n",
       "<style scoped>\n",
       "    .dataframe tbody tr th:only-of-type {\n",
       "        vertical-align: middle;\n",
       "    }\n",
       "\n",
       "    .dataframe tbody tr th {\n",
       "        vertical-align: top;\n",
       "    }\n",
       "\n",
       "    .dataframe thead th {\n",
       "        text-align: right;\n",
       "    }\n",
       "</style>\n",
       "<table border=\"1\" class=\"dataframe\">\n",
       "  <thead>\n",
       "    <tr style=\"text-align: right;\">\n",
       "      <th></th>\n",
       "      <th>start_loc</th>\n",
       "      <th>end_loc</th>\n",
       "      <th>start_fmt_time</th>\n",
       "      <th>end_fmt_time</th>\n",
       "    </tr>\n",
       "  </thead>\n",
       "  <tbody>\n",
       "    <tr>\n",
       "      <th>0</th>\n",
       "      <td>{'type': 'Point', 'coordinates': [5.3732571, 4...</td>\n",
       "      <td>{'type': 'Point', 'coordinates': [5.470528, 43...</td>\n",
       "      <td>2019-01-28T17:44:31.585995+01:00</td>\n",
       "      <td>2019-01-28T18:23:39+01:00</td>\n",
       "    </tr>\n",
       "    <tr>\n",
       "      <th>1</th>\n",
       "      <td>{'type': 'Point', 'coordinates': [5.470528, 43...</td>\n",
       "      <td>{'type': 'Point', 'coordinates': [5.4705162, 4...</td>\n",
       "      <td>2019-01-28T18:26:08.775306+01:00</td>\n",
       "      <td>2019-01-28T18:46:25+01:00</td>\n",
       "    </tr>\n",
       "    <tr>\n",
       "      <th>2</th>\n",
       "      <td>{'type': 'Point', 'coordinates': [5.4657783, 4...</td>\n",
       "      <td>{'type': 'Point', 'coordinates': [5.4703689, 4...</td>\n",
       "      <td>2019-01-30T19:52:40.300000+01:00</td>\n",
       "      <td>2019-01-30T20:14:25.654000+01:00</td>\n",
       "    </tr>\n",
       "    <tr>\n",
       "      <th>3</th>\n",
       "      <td>{'type': 'Point', 'coordinates': [5.4660641, 4...</td>\n",
       "      <td>{'type': 'Point', 'coordinates': [5.3736241, 4...</td>\n",
       "      <td>2019-01-31T08:23:00.077000+01:00</td>\n",
       "      <td>2019-01-31T08:46:03.074000+01:00</td>\n",
       "    </tr>\n",
       "  </tbody>\n",
       "</table>\n",
       "</div>"
      ],
      "text/plain": [
       "                                           start_loc  \\\n",
       "0  {'type': 'Point', 'coordinates': [5.3732571, 4...   \n",
       "1  {'type': 'Point', 'coordinates': [5.470528, 43...   \n",
       "2  {'type': 'Point', 'coordinates': [5.4657783, 4...   \n",
       "3  {'type': 'Point', 'coordinates': [5.4660641, 4...   \n",
       "\n",
       "                                             end_loc  \\\n",
       "0  {'type': 'Point', 'coordinates': [5.470528, 43...   \n",
       "1  {'type': 'Point', 'coordinates': [5.4705162, 4...   \n",
       "2  {'type': 'Point', 'coordinates': [5.4703689, 4...   \n",
       "3  {'type': 'Point', 'coordinates': [5.3736241, 4...   \n",
       "\n",
       "                     start_fmt_time                      end_fmt_time  \n",
       "0  2019-01-28T17:44:31.585995+01:00         2019-01-28T18:23:39+01:00  \n",
       "1  2019-01-28T18:26:08.775306+01:00         2019-01-28T18:46:25+01:00  \n",
       "2  2019-01-30T19:52:40.300000+01:00  2019-01-30T20:14:25.654000+01:00  \n",
       "3  2019-01-31T08:23:00.077000+01:00  2019-01-31T08:46:03.074000+01:00  "
      ]
     },
     "execution_count": 24,
     "metadata": {},
     "output_type": "execute_result"
    }
   ],
   "source": [
    "ct_df_2[[\"start_loc\", \"end_loc\", \"start_fmt_time\", \"end_fmt_time\"]]"
   ]
  },
  {
   "cell_type": "code",
   "execution_count": 34,
   "metadata": {},
   "outputs": [
    {
     "data": {
      "text/html": [
       "<div>\n",
       "<style scoped>\n",
       "    .dataframe tbody tr th:only-of-type {\n",
       "        vertical-align: middle;\n",
       "    }\n",
       "\n",
       "    .dataframe tbody tr th {\n",
       "        vertical-align: top;\n",
       "    }\n",
       "\n",
       "    .dataframe thead th {\n",
       "        text-align: right;\n",
       "    }\n",
       "</style>\n",
       "<table border=\"1\" class=\"dataframe\">\n",
       "  <thead>\n",
       "    <tr style=\"text-align: right;\">\n",
       "      <th></th>\n",
       "      <th>start_loc</th>\n",
       "      <th>end_loc</th>\n",
       "      <th>start_ts</th>\n",
       "      <th>end_ts</th>\n",
       "    </tr>\n",
       "  </thead>\n",
       "  <tbody>\n",
       "    <tr>\n",
       "      <th>0</th>\n",
       "      <td>{'type': 'Point', 'coordinates': [5.3732571, 4...</td>\n",
       "      <td>{'type': 'Point', 'coordinates': [5.470528, 43...</td>\n",
       "      <td>1.548694e+09</td>\n",
       "      <td>1.548696e+09</td>\n",
       "    </tr>\n",
       "    <tr>\n",
       "      <th>1</th>\n",
       "      <td>{'type': 'Point', 'coordinates': [5.470528, 43...</td>\n",
       "      <td>{'type': 'Point', 'coordinates': [5.4705162, 4...</td>\n",
       "      <td>1.548696e+09</td>\n",
       "      <td>1.548698e+09</td>\n",
       "    </tr>\n",
       "    <tr>\n",
       "      <th>2</th>\n",
       "      <td>{'type': 'Point', 'coordinates': [5.4657783, 4...</td>\n",
       "      <td>{'type': 'Point', 'coordinates': [5.4703689, 4...</td>\n",
       "      <td>1.548874e+09</td>\n",
       "      <td>1.548876e+09</td>\n",
       "    </tr>\n",
       "    <tr>\n",
       "      <th>3</th>\n",
       "      <td>{'type': 'Point', 'coordinates': [5.4660641, 4...</td>\n",
       "      <td>{'type': 'Point', 'coordinates': [5.3736241, 4...</td>\n",
       "      <td>1.548919e+09</td>\n",
       "      <td>1.548921e+09</td>\n",
       "    </tr>\n",
       "  </tbody>\n",
       "</table>\n",
       "</div>"
      ],
      "text/plain": [
       "                                           start_loc  \\\n",
       "0  {'type': 'Point', 'coordinates': [5.3732571, 4...   \n",
       "1  {'type': 'Point', 'coordinates': [5.470528, 43...   \n",
       "2  {'type': 'Point', 'coordinates': [5.4657783, 4...   \n",
       "3  {'type': 'Point', 'coordinates': [5.4660641, 4...   \n",
       "\n",
       "                                             end_loc      start_ts  \\\n",
       "0  {'type': 'Point', 'coordinates': [5.470528, 43...  1.548694e+09   \n",
       "1  {'type': 'Point', 'coordinates': [5.4705162, 4...  1.548696e+09   \n",
       "2  {'type': 'Point', 'coordinates': [5.4703689, 4...  1.548874e+09   \n",
       "3  {'type': 'Point', 'coordinates': [5.3736241, 4...  1.548919e+09   \n",
       "\n",
       "         end_ts  \n",
       "0  1.548696e+09  \n",
       "1  1.548698e+09  \n",
       "2  1.548876e+09  \n",
       "3  1.548921e+09  "
      ]
     },
     "execution_count": 34,
     "metadata": {},
     "output_type": "execute_result"
    }
   ],
   "source": [
    "# Get all cleaned trips for the second user\n",
    "ct_df_2 = ts_2.get_data_df(\"analysis/cleaned_trip\", time_query=None)\n",
    "ct_df_2[[\"start_loc\", \"end_loc\", \"start_ts\", \"end_ts\"]]"
   ]
  },
  {
   "cell_type": "code",
   "execution_count": null,
   "metadata": {},
   "outputs": [],
   "source": [
    "# Get cleaned trips for the two users that started on 1st Aug UTC\n",
    "import arrow\n",
    "\n",
    "aug_1_tq = estt.TimeQuery(\"data.start_ts\",\n",
    "                          arrow.get(\"2017-08-01\").timestamp, # start of range\n",
    "                          arrow.get(\"2017-08-02\").timestamp)  # end of range\n",
    "ct_df = ts.get_data_df(\"analysis/cleaned_trip\", time_query=aug_1_tq)\n",
    "ct_df_2 = ts_2.get_data_df(\"analysis/cleaned_trip\", time_query=aug_1_tq)\n",
    "print(\"From %s -> %s, user %s had %d trips and user %s had %d trips\" %\n",
    "     (aug_1_tq.startTs, aug_1_tq.endTs, test_user_id, len(ct_df), test_user_id_2, len(ct_df_2)))"
   ]
  },
  {
   "cell_type": "code",
   "execution_count": null,
   "metadata": {
    "collapsed": true
   },
   "outputs": [],
   "source": [
    "cs_df = ts.get_data_df(\"analysis/cleaned_section\", time_query=None)"
   ]
  },
  {
   "cell_type": "code",
   "execution_count": null,
   "metadata": {},
   "outputs": [],
   "source": [
    "len(cs_df)"
   ]
  },
  {
   "cell_type": "code",
   "execution_count": null,
   "metadata": {},
   "outputs": [],
   "source": [
    "cs_df.columns"
   ]
  },
  {
   "cell_type": "code",
   "execution_count": null,
   "metadata": {},
   "outputs": [],
   "source": [
    "cs_df[[\"start_loc\", \"end_loc\", \"start_ts\", \"end_ts\", \"sensed_mode\"]]"
   ]
  },
  {
   "cell_type": "markdown",
   "metadata": {},
   "source": [
    "### Direct mongodb queries"
   ]
  },
  {
   "cell_type": "markdown",
   "metadata": {},
   "source": [
    "You can also use direct mongodb queries during exploratory work. I do ask that you create a storage decorator (`emission/storage/decorations`) when you submit a pull request for ongoing use"
   ]
  },
  {
   "cell_type": "code",
   "execution_count": 21,
   "metadata": {},
   "outputs": [],
   "source": [
    "import emission.core.get_database as edb"
   ]
  },
  {
   "cell_type": "code",
   "execution_count": 22,
   "metadata": {},
   "outputs": [
    {
     "data": {
      "text/plain": [
       "{'_id': ObjectId('5c49e7944e276d05c81a293b'),\n",
       " 'user_id': '',\n",
       " 'metadata': {'key': 'stats/server_api_time',\n",
       "  'platform': 'server',\n",
       "  'write_ts': 1548347284.757146,\n",
       "  'time_zone': 'America/Los_Angeles',\n",
       "  'write_local_dt': {'year': 2019,\n",
       "   'month': 1,\n",
       "   'day': 24,\n",
       "   'hour': 8,\n",
       "   'minute': 28,\n",
       "   'second': 4,\n",
       "   'weekday': 3,\n",
       "   'timezone': 'America/Los_Angeles'},\n",
       "  'write_fmt_time': '2019-01-24T08:28:04.757146-08:00'},\n",
       " 'data': {'name': 'GET_/',\n",
       "  'ts': 1548347284.75363,\n",
       "  'reading': 0.02602386474609375}}"
      ]
     },
     "execution_count": 22,
     "metadata": {},
     "output_type": "execute_result"
    }
   ],
   "source": [
    "edb.get_timeseries_db().find_one()"
   ]
  },
  {
   "cell_type": "code",
   "execution_count": 23,
   "metadata": {},
   "outputs": [
    {
     "data": {
      "text/plain": [
       "['stats/server_api_time',\n",
       " 'background/location',\n",
       " 'background/filtered_location',\n",
       " 'statemachine/transition',\n",
       " 'background/motion_activity',\n",
       " 'stats/pipeline_time',\n",
       " 'stats/client_nav_event',\n",
       " 'background/battery',\n",
       " 'stats/client_time',\n",
       " 'config/consent',\n",
       " 'stats/client_error',\n",
       " 'stats/server_api_error']"
      ]
     },
     "execution_count": 23,
     "metadata": {},
     "output_type": "execute_result"
    }
   ],
   "source": [
    "edb.get_timeseries_db().distinct(\"metadata.key\")"
   ]
  },
  {
   "cell_type": "markdown",
   "metadata": {},
   "source": [
    "Note that in this case, you need to know whether to use the `timeseries` or the `analysis_timeseries` collection"
   ]
  },
  {
   "cell_type": "code",
   "execution_count": 24,
   "metadata": {},
   "outputs": [
    {
     "data": {
      "text/plain": [
       "['segmentation/raw_trip',\n",
       " 'segmentation/raw_place',\n",
       " 'segmentation/raw_section',\n",
       " 'segmentation/raw_stop',\n",
       " 'analysis/smoothing',\n",
       " 'analysis/recreated_location',\n",
       " 'analysis/cleaned_section',\n",
       " 'analysis/cleaned_stop',\n",
       " 'analysis/cleaned_place',\n",
       " 'analysis/cleaned_trip',\n",
       " 'segmentation/raw_untracked',\n",
       " 'analysis/cleaned_untracked',\n",
       " 'inference/prediction',\n",
       " 'analysis/inferred_section']"
      ]
     },
     "execution_count": 24,
     "metadata": {},
     "output_type": "execute_result"
    }
   ],
   "source": [
    "edb.get_analysis_timeseries_db().distinct(\"metadata.key\")"
   ]
  },
  {
   "cell_type": "code",
   "execution_count": 26,
   "metadata": {},
   "outputs": [
    {
     "data": {
      "text/plain": [
       "4"
      ]
     },
     "execution_count": 26,
     "metadata": {},
     "output_type": "execute_result"
    }
   ],
   "source": [
    "edb.get_analysis_timeseries_db().find({\"user_id\": test_user_id_2, \"metadata.key\": \"analysis/cleaned_trip\"}).count()"
   ]
  },
  {
   "cell_type": "markdown",
   "metadata": {},
   "source": [
    "In particular, you can use this to access entries that are not in the timeseries"
   ]
  },
  {
   "cell_type": "code",
   "execution_count": 27,
   "metadata": {},
   "outputs": [
    {
     "data": {
      "text/plain": [
       "[UUID('40267d4c-5fe9-423c-b18d-cde3d09c68c2'),\n",
       " UUID('d0cbf849-f9b1-4ba1-83be-1a148ec56a1e'),\n",
       " UUID('91bc554a-4228-4afd-b2ca-be8eb7e33760')]"
      ]
     },
     "execution_count": 27,
     "metadata": {},
     "output_type": "execute_result"
    }
   ],
   "source": [
    "edb.get_uuid_db().distinct(\"uuid\")"
   ]
  },
  {
   "cell_type": "markdown",
   "metadata": {},
   "source": [
    "### Timeline"
   ]
  },
  {
   "cell_type": "markdown",
   "metadata": {},
   "source": [
    "The trips and places maintain links to each other - e.g. `start_place`, `end_place`"
   ]
  },
  {
   "cell_type": "code",
   "execution_count": null,
   "metadata": {},
   "outputs": [],
   "source": [
    "ct_df[[\"start_place\", \"end_place\"]]"
   ]
  },
  {
   "cell_type": "markdown",
   "metadata": {},
   "source": [
    "These are _primary key links_ to other entries in the database. It would be useful to have a doubly linked list representing this properly. The Timeline helps with that."
   ]
  },
  {
   "cell_type": "code",
   "execution_count": null,
   "metadata": {
    "collapsed": true
   },
   "outputs": [],
   "source": [
    "import emission.storage.decorations.timeline as esdl"
   ]
  },
  {
   "cell_type": "code",
   "execution_count": null,
   "metadata": {},
   "outputs": [],
   "source": [
    "trip_start_end_fuzz = 10 # seconds\n",
    "ct_df = ts.get_data_df(\"analysis/cleaned_trip\", time_query=None)\n",
    "tl = esdl.get_cleaned_timeline(test_user_id, ct_df.iloc[0].start_ts - trip_start_end_fuzz, ct_df.iloc[-1].end_ts + trip_start_end_fuzz)"
   ]
  },
  {
   "cell_type": "code",
   "execution_count": null,
   "metadata": {},
   "outputs": [],
   "source": [
    "for e in tl:\n",
    "    if 'enter_ts' in e.data:\n",
    "        # Must be place-like\n",
    "        print(e.metadata.key, e.data.enter_fmt_time, \"->\", e.data.exit_fmt_time)\n",
    "    else:\n",
    "        print(e.metadata.key, e.data.start_fmt_time, \"->\", e.data.end_fmt_time)"
   ]
  },
  {
   "cell_type": "code",
   "execution_count": null,
   "metadata": {},
   "outputs": [],
   "source": [
    "# The timeline is an iterator, so after it is consumed, it is empty\n",
    "for e in tl:\n",
    "    if 'enter_ts' in e.data:\n",
    "        # Must be place-like\n",
    "        print(e.metadata.key, e.data.enter_fmt_time, \"->\", e.data.exit_fmt_time)\n",
    "    else:\n",
    "        print(e.metadata.key, e.data.start_fmt_time, \"->\", e.data.end_fmt_time)"
   ]
  },
  {
   "cell_type": "code",
   "execution_count": null,
   "metadata": {
    "collapsed": true
   },
   "outputs": [],
   "source": [
    "stl = esdt.get_cleaned_timeline_for_trip(test_user_id, tl.first_trip().get_id())"
   ]
  },
  {
   "cell_type": "code",
   "execution_count": null,
   "metadata": {},
   "outputs": [],
   "source": [
    "for e in stl:\n",
    "    print(e.metadata.key)"
   ]
  },
  {
   "cell_type": "code",
   "execution_count": null,
   "metadata": {
    "collapsed": true
   },
   "outputs": [],
   "source": [
    "stl = esdt.get_cleaned_timeline_for_trip(test_user_id, tl.last_trip().get_id())"
   ]
  },
  {
   "cell_type": "code",
   "execution_count": null,
   "metadata": {},
   "outputs": [],
   "source": [
    "for e in stl:\n",
    "    print(e.metadata.key)"
   ]
  },
  {
   "cell_type": "markdown",
   "metadata": {
    "collapsed": true
   },
   "source": [
    "## Getting trip and section details ##"
   ]
  },
  {
   "cell_type": "markdown",
   "metadata": {},
   "source": [
    "Once we have trip and section objects, we can retrieve the sensed data associated with them by querying for data in various streams that falls within the time ranges associated with the trip/section. Here again, our architecture of storing the analysis results as a separate datastream makes it easy to retrieve data at various levels of processing."
   ]
  },
  {
   "cell_type": "markdown",
   "metadata": {},
   "source": [
    "### Plot a processed trip or set of trips ###"
   ]
  },
  {
   "cell_type": "code",
   "execution_count": 35,
   "metadata": {},
   "outputs": [
    {
     "name": "stdout",
     "output_type": "stream",
     "text": [
      "analysis.debug.conf.json not configured, falling back to sample, default configuration\n"
     ]
    }
   ],
   "source": [
    "import emission.analysis.plotting.geojson.geojson_feature_converter as gfc\n",
    "import emission.analysis.plotting.leaflet_osm.our_plotter as lo"
   ]
  },
  {
   "cell_type": "code",
   "execution_count": 44,
   "metadata": {},
   "outputs": [],
   "source": [
    "first_trip_for_user_2 = ct_df.iloc[2]\n",
    "first_trip_start_ts_2 = first_trip_for_user.start_ts\n",
    "first_trip_end_ts_2 = first_trip_for_user.end_ts\n",
    "trip_start_end_fuzz = 10 # seconds\n",
    "trips_geojson_list = gfc.get_geojson_for_ts(test_user_id_2, first_trip_start_ts_2-trip_start_end_fuzz, ct_df_2.iloc[-1].end_ts+trip_start_end_fuzz)"
   ]
  },
  {
   "cell_type": "code",
   "execution_count": 45,
   "metadata": {
    "scrolled": true
   },
   "outputs": [
    {
     "data": {
      "text/plain": [
       "4"
      ]
     },
     "execution_count": 45,
     "metadata": {},
     "output_type": "execute_result"
    }
   ],
   "source": [
    "len(trips_geojson_list)"
   ]
  },
  {
   "cell_type": "code",
   "execution_count": 46,
   "metadata": {},
   "outputs": [
    {
     "name": "stdout",
     "output_type": "stream",
     "text": [
      "start_place 5c5bdb624e276d4ee60f0038\n",
      "end_place 5c5bdb624e276d4ee60f003a\n",
      "section 5c5bdb614e276d4ee60eff51\n",
      "start_place 5c5bdb624e276d4ee60f003a\n",
      "end_place 5c5bdb624e276d4ee60f003b\n",
      "stop 5c5bdb624e276d4ee60effd3\n",
      "stop 5c5bdb624e276d4ee60effd4\n",
      "section 5c5bdb624e276d4ee60effa3\n",
      "section 5c5bdb624e276d4ee60effb7\n",
      "section 5c5bdb624e276d4ee60effc9\n",
      "start_place 5c5bdb624e276d4ee60f003c\n",
      "end_place 5c5bdb624e276d4ee60f003d\n",
      "stop 5c5bdb624e276d4ee60f0004\n",
      "section 5c5bdb624e276d4ee60effd7\n",
      "section 5c5bdb624e276d4ee60efff0\n",
      "start_place 5c5bdb624e276d4ee60f003e\n",
      "end_place 5c5bdb624e276d4ee60f003f\n",
      "section 5c5bdb624e276d4ee60f0007\n"
     ]
    }
   ],
   "source": [
    "map_list = lo.get_maps_for_geojson_trip_list(trips_geojson_list)"
   ]
  },
  {
   "cell_type": "code",
   "execution_count": 47,
   "metadata": {},
   "outputs": [
    {
     "data": {
      "text/plain": [
       "4"
      ]
     },
     "execution_count": 47,
     "metadata": {},
     "output_type": "execute_result"
    }
   ],
   "source": [
    "len(map_list)"
   ]
  },
  {
   "cell_type": "code",
   "execution_count": 52,
   "metadata": {},
   "outputs": [
    {
     "data": {
      "text/html": [
       "<div style=\"width:100%;\"><div style=\"position:relative;width:100%;height:0;padding-bottom:60%;\"><iframe src=\"data:text/html;charset=utf-8;base64,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\" style=\"position:absolute;width:100%;height:100%;left:0;top:0;border:none !important;\" allowfullscreen webkitallowfullscreen mozallowfullscreen></iframe></div></div>"
      ],
      "text/plain": [
       "<folium.folium.Map at 0x7f3b72f6b6a0>"
      ]
     },
     "execution_count": 52,
     "metadata": {},
     "output_type": "execute_result"
    }
   ],
   "source": [
    "map_list[2]"
   ]
  },
  {
   "cell_type": "code",
   "execution_count": 49,
   "metadata": {},
   "outputs": [
    {
     "data": {
      "text/html": [
       "<div style=\"width:100%;\"><div style=\"position:relative;width:100%;height:0;padding-bottom:60%;\"><iframe src=\"data:text/html;charset=utf-8;base64,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\" style=\"position:absolute;width:100%;height:100%;left:0;top:0;border:none !important;\" allowfullscreen webkitallowfullscreen mozallowfullscreen></iframe></div></div>"
      ],
      "text/plain": [
       "<folium.folium.Map at 0x7f3b72f10da0>"
      ]
     },
     "execution_count": 49,
     "metadata": {},
     "output_type": "execute_result"
    }
   ],
   "source": [
    "map_list[-1]"
   ]
  },
  {
   "cell_type": "code",
   "execution_count": null,
   "metadata": {
    "collapsed": true
   },
   "outputs": [],
   "source": [
    "import branca.element as bre"
   ]
  },
  {
   "cell_type": "code",
   "execution_count": null,
   "metadata": {},
   "outputs": [],
   "source": [
    "nrows = 2\n",
    "ncols = 3\n",
    "fig = bre.Figure()\n",
    "for i, m in enumerate(map_list[:6]):\n",
    "    fig.add_subplot(nrows,ncols,i+1).add_child(m)\n",
    "fig"
   ]
  },
  {
   "cell_type": "code",
   "execution_count": null,
   "metadata": {},
   "outputs": [],
   "source": [
    "nrows = 2\n",
    "ncols = 3\n",
    "fig = bre.Figure()\n",
    "for i, map in enumerate(map_list[-6:]):\n",
    "    fig.add_subplot(nrows,ncols,i+1).add_child(map)\n",
    "fig"
   ]
  },
  {
   "cell_type": "markdown",
   "metadata": {},
   "source": [
    "## Can you do better? ##"
   ]
  },
  {
   "cell_type": "markdown",
   "metadata": {},
   "source": [
    "\n",
    "### Get locations with no processing, basic filtering and resampling for the first trip ###"
   ]
  },
  {
   "cell_type": "code",
   "execution_count": null,
   "metadata": {},
   "outputs": [],
   "source": [
    "all_locs = ts.get_data_df(\"background/location\",\n",
    "                               time_query = esda.get_time_query_for_trip_like(\n",
    "                                   \"analysis/cleaned_section\", ct_df.iloc[0]._id))\n",
    "\n",
    "filtered_locs = ts.get_data_df(\"background/filtered_location\",\n",
    "                               time_query = esda.get_time_query_for_trip_like(\n",
    "                                   \"analysis/cleaned_section\", ct_df.iloc[0]._id))\n",
    "\n",
    "resampled_locs = ts.get_data_df(\"analysis/recreated_location\",\n",
    "                                 time_query = esda.get_time_query_for_trip_like(\n",
    "                                   \"analysis/cleaned_section\", ct_df.iloc[0]._id))\n",
    "print(\"Locations go from all = %d -> filtered = %d -> resampled = %d\" % (len(all_locs),\n",
    "                                                                         len(filtered_locs),\n",
    "                                                                         len(resampled_locs)))"
   ]
  },
  {
   "cell_type": "code",
   "execution_count": null,
   "metadata": {},
   "outputs": [],
   "source": [
    "all_locs[[\"_id\", \"latitude\", \"longitude\", \"fmt_time\"]]"
   ]
  },
  {
   "cell_type": "markdown",
   "metadata": {},
   "source": [
    "### Get the raw motion activity, in case you want to do different segmentation ###"
   ]
  },
  {
   "cell_type": "code",
   "execution_count": null,
   "metadata": {
    "collapsed": true
   },
   "outputs": [],
   "source": [
    "all_activity = ts.get_data_df(\"background/motion_activity\",\n",
    "                               esda.get_time_query_for_trip_like(\n",
    "                                   \"analysis/cleaned_section\", ct_df.iloc[0]._id))"
   ]
  },
  {
   "cell_type": "code",
   "execution_count": null,
   "metadata": {},
   "outputs": [],
   "source": [
    "all_activity.columns"
   ]
  },
  {
   "cell_type": "code",
   "execution_count": null,
   "metadata": {},
   "outputs": [],
   "source": [
    "import emission.core.wrapper.motionactivity as ecwm\n",
    "\n",
    "print(\"Found %d walking entries, %d on_foot entries\" % (len(all_activity[all_activity.type == ecwm.MotionTypes.WALKING.value]), \n",
    "                                    len(all_activity[all_activity.type == ecwm.MotionTypes.ON_FOOT.value])))\n",
    "print(\"Found %d motorized entries\" % (len(all_activity[all_activity.type == ecwm.MotionTypes.IN_VEHICLE.value])))"
   ]
  },
  {
   "cell_type": "markdown",
   "metadata": {},
   "source": [
    "### Plot the location points ###"
   ]
  },
  {
   "cell_type": "code",
   "execution_count": null,
   "metadata": {},
   "outputs": [],
   "source": [
    "map_list = lo.get_maps_for_geojson_unsectioned([gfc.get_feature_list_from_df(all_locs),\n",
    "                                                gfc.get_feature_list_from_df(filtered_locs),\n",
    "                                                gfc.get_feature_list_from_df(resampled_locs)])"
   ]
  },
  {
   "cell_type": "code",
   "execution_count": null,
   "metadata": {},
   "outputs": [],
   "source": [
    "fig = bre.Figure()\n",
    "for i, map in enumerate(map_list):\n",
    "    fig.add_subplot(1,3,i+1).add_child(map)\n",
    "fig"
   ]
  },
  {
   "cell_type": "code",
   "execution_count": null,
   "metadata": {
    "collapsed": true
   },
   "outputs": [],
   "source": []
  }
 ],
 "metadata": {
  "kernelspec": {
   "display_name": "Python 3",
   "language": "python",
   "name": "python3"
  },
  "language_info": {
   "codemirror_mode": {
    "name": "ipython",
    "version": 3
   },
   "file_extension": ".py",
   "mimetype": "text/x-python",
   "name": "python",
   "nbconvert_exporter": "python",
   "pygments_lexer": "ipython3",
   "version": "3.6.8"
  }
 },
 "nbformat": 4,
 "nbformat_minor": 1
}
