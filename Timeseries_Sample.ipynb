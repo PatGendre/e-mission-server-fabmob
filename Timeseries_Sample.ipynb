{
 "cells": [
  {
   "cell_type": "markdown",
   "metadata": {},
   "source": [
    "In order to run this notebook with the correct PYTHONPATH, you can use\n",
    "```\n",
    "$ ./e-mission-jupyter.bash notebook\n",
    "```"
   ]
  },
  {
   "cell_type": "markdown",
   "metadata": {},
   "source": [
    "This notebook makes heavy use of the following python libraries.\n",
    "- `pandas`: from the python computing stack (http://pandas.pydata.org/pandas-docs/stable/)\n",
    "- `geojson`: standard JSON representation of geographic data (http://geojson.org/)\n",
    "- `folium`: (https://github.com/python-visualization/folium) python bridge to leaflet (http://leafletjs.com/)"
   ]
  },
  {
   "cell_type": "markdown",
   "metadata": {},
   "source": [
    "### Pick a user to work with ###"
   ]
  },
  {
   "cell_type": "code",
   "execution_count": 1,
   "metadata": {},
   "outputs": [
    {
     "data": {
      "text/plain": [
       "'/var/emission/e-mission-server'"
      ]
     },
     "execution_count": 1,
     "metadata": {},
     "output_type": "execute_result"
    }
   ],
   "source": [
    "pwd"
   ]
  },
  {
   "cell_type": "code",
   "execution_count": 1,
   "metadata": {
    "scrolled": true
   },
   "outputs": [
    {
     "name": "stdout",
     "output_type": "stream",
     "text": [
      "storage not configured, falling back to sample, default configuration\n",
      "Connecting to database URL localhost\n"
     ]
    },
    {
     "data": {
      "text/html": [
       "<div>\n",
       "<style scoped>\n",
       "    .dataframe tbody tr th:only-of-type {\n",
       "        vertical-align: middle;\n",
       "    }\n",
       "\n",
       "    .dataframe tbody tr th {\n",
       "        vertical-align: top;\n",
       "    }\n",
       "\n",
       "    .dataframe thead th {\n",
       "        text-align: right;\n",
       "    }\n",
       "</style>\n",
       "<table border=\"1\" class=\"dataframe\">\n",
       "  <thead>\n",
       "    <tr style=\"text-align: right;\">\n",
       "      <th></th>\n",
       "      <th>user_email</th>\n",
       "      <th>uuid</th>\n",
       "    </tr>\n",
       "  </thead>\n",
       "  <tbody>\n",
       "    <tr>\n",
       "      <th>0</th>\n",
       "      <td>patgendre</td>\n",
       "      <td>a2ad418f-74ff-4d60-8ea0-9ccf9dd5de9b</td>\n",
       "    </tr>\n",
       "    <tr>\n",
       "      <th>1</th>\n",
       "      <td>mahieu</td>\n",
       "      <td>bb5eb9ad-4589-4aa7-a4cb-f1c2037dbcd4</td>\n",
       "    </tr>\n",
       "    <tr>\n",
       "      <th>2</th>\n",
       "      <td>maria.tebar@cerema.fr</td>\n",
       "      <td>2aa06302-bb3b-48d9-805e-d5ae6209bfca</td>\n",
       "    </tr>\n",
       "    <tr>\n",
       "      <th>3</th>\n",
       "      <td>test_user_1</td>\n",
       "      <td>c1010f8c-b089-4d77-84ed-d19a3a4656c8</td>\n",
       "    </tr>\n",
       "  </tbody>\n",
       "</table>\n",
       "</div>"
      ],
      "text/plain": [
       "              user_email                                  uuid\n",
       "0              patgendre  a2ad418f-74ff-4d60-8ea0-9ccf9dd5de9b\n",
       "1                 mahieu  bb5eb9ad-4589-4aa7-a4cb-f1c2037dbcd4\n",
       "2  maria.tebar@cerema.fr  2aa06302-bb3b-48d9-805e-d5ae6209bfca\n",
       "3            test_user_1  c1010f8c-b089-4d77-84ed-d19a3a4656c8"
      ]
     },
     "execution_count": 1,
     "metadata": {},
     "output_type": "execute_result"
    }
   ],
   "source": [
    "import emission.core.get_database as edb\n",
    "import pandas as pd\n",
    "all_users = pd.DataFrame(list(edb.get_uuid_db().find({}, {\"user_email\":1, \"uuid\": 1, \"_id\": 0})))\n",
    "all_users"
   ]
  },
  {
   "cell_type": "code",
   "execution_count": null,
   "metadata": {},
   "outputs": [],
   "source": []
  },
  {
   "cell_type": "code",
   "execution_count": null,
   "metadata": {},
   "outputs": [],
   "source": []
  },
  {
   "cell_type": "code",
   "execution_count": 3,
   "metadata": {},
   "outputs": [],
   "source": [
    "test_user_id_2 = all_users.iloc[2].uuid\n",
    "test_user_id_7 = all_users.iloc[7].uuid"
   ]
  },
  {
   "cell_type": "code",
   "execution_count": 4,
   "metadata": {},
   "outputs": [],
   "source": [
    "from uuid import UUID"
   ]
  },
  {
   "cell_type": "code",
   "execution_count": 2,
   "metadata": {},
   "outputs": [],
   "source": [
    "test_user_id = all_users.iloc[2].uuid # replace with UUID from above"
   ]
  },
  {
   "cell_type": "markdown",
   "metadata": {},
   "source": [
    "If you want to work across multiple users, just do the same thing again"
   ]
  },
  {
   "cell_type": "code",
   "execution_count": 11,
   "metadata": {},
   "outputs": [
    {
     "name": "stdout",
     "output_type": "stream",
     "text": [
      "tre\n"
     ]
    }
   ],
   "source": [
    "print(\"tre\")"
   ]
  },
  {
   "cell_type": "markdown",
   "metadata": {},
   "source": [
    "### Preferred access technique"
   ]
  },
  {
   "cell_type": "markdown",
   "metadata": {},
   "source": [
    "The preferred technique to access wrapper objects from the timeseries is to use the abstract timeseries interface. This makes it easier for us to switch to alternative timeseries implementations later. The timeseries is conceptually a set of streams, one for each of the types, primarily indexed by time. So you can query for all entries of a particular time within a specified time range."
   ]
  },
  {
   "cell_type": "code",
   "execution_count": 3,
   "metadata": {},
   "outputs": [],
   "source": [
    "import emission.storage.timeseries.abstract_timeseries as esta\n",
    "import emission.storage.decorations.analysis_timeseries_queries as esda\n",
    "import emission.core.wrapper.entry as ecwe\n",
    "import emission.storage.decorations.trip_queries as esdt\n",
    "import emission.storage.timeseries.timequery as estt"
   ]
  },
  {
   "cell_type": "code",
   "execution_count": 6,
   "metadata": {},
   "outputs": [
    {
     "name": "stdout",
     "output_type": "stream",
     "text": [
      "91bc554a-4228-4afd-b2ca-be8eb7e33760\n"
     ]
    }
   ],
   "source": [
    "print(test_user_id_2)\n",
    "ts_2 = esta.TimeSeries.get_time_series(test_user_id_2)\n",
    "ts_7 = esta.TimeSeries.get_time_series(test_user_id_7)"
   ]
  },
  {
   "cell_type": "markdown",
   "metadata": {},
   "source": [
    "#### Accessing entries directly"
   ]
  },
  {
   "cell_type": "code",
   "execution_count": 4,
   "metadata": {},
   "outputs": [],
   "source": [
    "# Get all cleaned trips for the first user\n",
    "ts = esta.TimeSeries.get_time_series(test_user_id)\n",
    "entry_it = ts.find_entries([\"segmentation/raw_trip\"], time_query=None)"
   ]
  },
  {
   "cell_type": "markdown",
   "metadata": {},
   "source": [
    "All keys and their mapping to data model objects can be found in \n",
    "https://github.com/e-mission/e-mission-server/blob/master/emission/core/wrapper/entry.py"
   ]
  },
  {
   "cell_type": "code",
   "execution_count": 8,
   "metadata": {},
   "outputs": [
    {
     "name": "stdout",
     "output_type": "stream",
     "text": [
      "=== Trip: {\"coordinates\": [-1.6720301, 48.10444], \"type\": \"Point\"} -> {\"coordinates\": [-1.6733677, 48.1043067], \"type\": \"Point\"}\n",
      "jour-heure  LocalDate({'year': 2019, 'month': 3, 'day': 27, 'hour': 19, 'minute': 28, 'second': 54, 'weekday': 2, 'timezone': 'Europe/Paris'}) 100.21199989318848\n",
      "=== Trip: {\"coordinates\": [3.0619455, 50.6283401], \"type\": \"Point\"} -> {\"coordinates\": [3.0654961, 50.6270542], \"type\": \"Point\"}\n",
      "jour-heure  LocalDate({'year': 2019, 'month': 4, 'day': 19, 'hour': 12, 'minute': 44, 'second': 1, 'weekday': 4, 'timezone': 'Europe/Paris'}) 909.8414974212646\n",
      "=== Trip: {\"coordinates\": [3.0654961, 50.6270542], \"type\": \"Point\"} -> {\"coordinates\": [3.0558097, 50.6307208], \"type\": \"Point\"}\n",
      "jour-heure  LocalDate({'year': 2019, 'month': 4, 'day': 19, 'hour': 17, 'minute': 15, 'second': 54, 'weekday': 4, 'timezone': 'Europe/Paris'}) 271.9594702720642\n",
      "=== Trip: {\"coordinates\": [3.0685092, 50.6244877], \"type\": \"Point\"} -> {\"coordinates\": [3.0702096, 50.6272042], \"type\": \"Point\"}\n",
      "jour-heure  LocalDate({'year': 2019, 'month': 4, 'day': 25, 'hour': 12, 'minute': 12, 'second': 41, 'weekday': 3, 'timezone': 'Europe/Paris'}) 190.85899996757507\n",
      "=== Trip: {\"coordinates\": [3.0702096, 50.6272042], \"type\": \"Point\"} -> {\"coordinates\": [3.0654589, 50.6271102], \"type\": \"Point\"}\n",
      "jour-heure  LocalDate({'year': 2019, 'month': 4, 'day': 25, 'hour': 14, 'minute': 13, 'second': 9, 'weekday': 3, 'timezone': 'Europe/Paris'}) 613.9306778907776\n"
     ]
    }
   ],
   "source": [
    "# recherche des tracés d'iti user \n",
    "entry_rawtrips = ts.find_entries([\"analysis/cleaned_trip\"], time_query=None)\n",
    "for ct in entry_rawtrips:\n",
    "    cte = ecwe.Entry(ct)\n",
    "    print(\"=== Trip:\", cte.data.start_loc, \"->\", cte.data.end_loc)\n",
    "    print (\"jour-heure \",cte.data.start_local_dt, cte.data.duration)"
   ]
  },
  {
   "cell_type": "code",
   "execution_count": 9,
   "metadata": {},
   "outputs": [],
   "source": [
    "for ct in entry_it:\n",
    "    cte = ecwe.Entry(ct)\n",
    "    print(\"=== Trip:\", cte.data.start_loc, \"->\", cte.data.end_loc)\n",
    "    print (\"jour-heure \",cte.data.start_local_dt, cte.data.duration)\n",
    "    section_it = esdt.get_sections_for_trip(\"analysis/cleaned_section\", test_user_id, cte.get_id())\n",
    "    for sec in section_it:\n",
    "        print(\"  --- Section:\", sec.data.start_loc, \"->\", sec.data.end_loc, \" on \", sec.data.sensed_mode)"
   ]
  },
  {
   "cell_type": "code",
   "execution_count": 10,
   "metadata": {},
   "outputs": [
    {
     "name": "stdout",
     "output_type": "stream",
     "text": [
      "Cleanedtrip({'source': 'DwellSegmentationTimeFilter', 'end_ts': 1556195003.195, 'end_local_dt': {'year': 2019, 'month': 4, 'day': 25, 'hour': 14, 'minute': 23, 'second': 23, 'weekday': 3, 'timezone': 'Europe/Paris'}, 'end_fmt_time': '2019-04-25T14:23:23.195000+02:00', 'end_loc': {'type': 'Point', 'coordinates': [3.0654589, 50.6271102]}, 'raw_trip': ObjectId('5cc1b36c4e276dea15c700b3'), 'start_ts': 1556194389.264322, 'start_local_dt': {'year': 2019, 'month': 4, 'day': 25, 'hour': 14, 'minute': 13, 'second': 9, 'weekday': 3, 'timezone': 'Europe/Paris'}, 'start_fmt_time': '2019-04-25T14:13:09.264322+02:00', 'start_loc': {'type': 'Point', 'coordinates': [3.0702096, 50.6272042]}, 'duration': 613.9306778907776, 'distance': 442.25737408352654, 'start_place': ObjectId('5cc1b36d4e276dea15c700f2'), 'end_place': ObjectId('5cc1b36d4e276dea15c700f3')})\n"
     ]
    }
   ],
   "source": [
    "print (cte.data)"
   ]
  },
  {
   "cell_type": "code",
   "execution_count": 11,
   "metadata": {},
   "outputs": [],
   "source": [
    "# Get all cleaned trips for the second user\n",
    "entry_it = ts.find_entries([\"analysis/cleaned_trip\"], time_query=None)"
   ]
  },
  {
   "cell_type": "code",
   "execution_count": 12,
   "metadata": {},
   "outputs": [
    {
     "name": "stdout",
     "output_type": "stream",
     "text": [
      "=== Trip: {\"coordinates\": [-1.6720301, 48.10444], \"type\": \"Point\"} -> {\"coordinates\": [-1.6733677, 48.1043067], \"type\": \"Point\"}\n",
      "  --- Section: {\"coordinates\": [-1.6720301, 48.10444], \"type\": \"Point\"} -> {\"coordinates\": [-1.6733677, 48.1043067], \"type\": \"Point\"}  on  MotionTypes.ON_FOOT\n",
      "=== Trip: {\"coordinates\": [3.0619455, 50.6283401], \"type\": \"Point\"} -> {\"coordinates\": [3.0654961, 50.6270542], \"type\": \"Point\"}\n",
      "  --- Section: {\"coordinates\": [3.0619455, 50.6283401], \"type\": \"Point\"} -> {\"coordinates\": [3.0654961, 50.6270542], \"type\": \"Point\"}  on  MotionTypes.ON_FOOT\n",
      "=== Trip: {\"coordinates\": [3.0654961, 50.6270542], \"type\": \"Point\"} -> {\"coordinates\": [3.0558097, 50.6307208], \"type\": \"Point\"}\n",
      "  --- Section: {\"coordinates\": [3.0654961, 50.6270542], \"type\": \"Point\"} -> {\"coordinates\": [3.0558097, 50.6307208], \"type\": \"Point\"}  on  MotionTypes.UNKNOWN\n",
      "=== Trip: {\"coordinates\": [3.0685092, 50.6244877], \"type\": \"Point\"} -> {\"coordinates\": [3.0702096, 50.6272042], \"type\": \"Point\"}\n",
      "  --- Section: {\"coordinates\": [3.0685092, 50.6244877], \"type\": \"Point\"} -> {\"coordinates\": [3.0702096, 50.6272042], \"type\": \"Point\"}  on  MotionTypes.IN_VEHICLE\n",
      "=== Trip: {\"coordinates\": [3.0702096, 50.6272042], \"type\": \"Point\"} -> {\"coordinates\": [3.0654589, 50.6271102], \"type\": \"Point\"}\n",
      "  --- Section: {\"coordinates\": [3.0702096, 50.6272042], \"type\": \"Point\"} -> {\"coordinates\": [3.0654589, 50.6271102], \"type\": \"Point\"}  on  MotionTypes.ON_FOOT\n"
     ]
    }
   ],
   "source": [
    "for ct in entry_it:\n",
    "    cte = ecwe.Entry(ct)\n",
    "    print(\"=== Trip:\", cte.data.start_loc, \"->\", cte.data.end_loc)\n",
    "    section_it = esdt.get_sections_for_trip(\"analysis/cleaned_section\", test_user_id, cte.get_id())\n",
    "    for sec in section_it:\n",
    "        print(\"  --- Section:\", sec.data.start_loc, \"->\", sec.data.end_loc, \" on \", sec.data.sensed_mode)"
   ]
  },
  {
   "cell_type": "code",
   "execution_count": null,
   "metadata": {},
   "outputs": [],
   "source": [
    "# Get cleaned trips for the two users that started on 1st Aug UTC\n",
    "import arrow\n",
    "\n",
    "aug_1_tq = estt.TimeQuery(\"data.start_ts\",\n",
    "                          arrow.get(\"2017-08-01\").timestamp, # start of range\n",
    "                          arrow.get(\"2017-08-02\").timestamp)  # end of range\n",
    "entry_it = ts.find_entries([\"analysis/cleaned_trip\"], time_query=aug_1_tq)\n",
    "entry_it_2 = ts_2.find_entries([\"analysis/cleaned_trip\"], time_query=aug_1_tq)\n",
    "print(\"From %s -> %s, user %s had %d trips and user %s had %d trips\" %\n",
    "     (aug_1_tq.startTs, aug_1_tq.endTs, test_user_id, len(list(entry_it)), test_user_id_2, len(list(entry_it_2))))"
   ]
  },
  {
   "cell_type": "markdown",
   "metadata": {},
   "source": [
    "#### Accessing a dataframe"
   ]
  },
  {
   "cell_type": "code",
   "execution_count": 13,
   "metadata": {},
   "outputs": [],
   "source": [
    "# Get all cleaned trips for the first user\n",
    "ct_df = ts.get_data_df(\"analysis/cleaned_trip\", time_query=None)\n",
    "sm_df = ts.get_data_df(\"analysis/smoothing\", time_query=None)"
   ]
  },
  {
   "cell_type": "code",
   "execution_count": 14,
   "metadata": {},
   "outputs": [
    {
     "data": {
      "text/plain": [
       "5"
      ]
     },
     "execution_count": 14,
     "metadata": {},
     "output_type": "execute_result"
    }
   ],
   "source": [
    "len(ct_df)"
   ]
  },
  {
   "cell_type": "code",
   "execution_count": 15,
   "metadata": {},
   "outputs": [
    {
     "data": {
      "text/plain": [
       "Index(['_id', 'distance', 'duration', 'end_fmt_time', 'end_loc',\n",
       "       'end_local_dt_day', 'end_local_dt_hour', 'end_local_dt_minute',\n",
       "       'end_local_dt_month', 'end_local_dt_second', 'end_local_dt_timezone',\n",
       "       'end_local_dt_weekday', 'end_local_dt_year', 'end_place', 'end_ts',\n",
       "       'metadata_write_ts', 'raw_trip', 'source', 'start_fmt_time',\n",
       "       'start_loc', 'start_local_dt_day', 'start_local_dt_hour',\n",
       "       'start_local_dt_minute', 'start_local_dt_month',\n",
       "       'start_local_dt_second', 'start_local_dt_timezone',\n",
       "       'start_local_dt_weekday', 'start_local_dt_year', 'start_place',\n",
       "       'start_ts', 'user_id'],\n",
       "      dtype='object')"
      ]
     },
     "execution_count": 15,
     "metadata": {},
     "output_type": "execute_result"
    }
   ],
   "source": [
    "ct_df.columns"
   ]
  },
  {
   "cell_type": "code",
   "execution_count": 16,
   "metadata": {},
   "outputs": [
    {
     "data": {
      "text/html": [
       "<div>\n",
       "<style scoped>\n",
       "    .dataframe tbody tr th:only-of-type {\n",
       "        vertical-align: middle;\n",
       "    }\n",
       "\n",
       "    .dataframe tbody tr th {\n",
       "        vertical-align: top;\n",
       "    }\n",
       "\n",
       "    .dataframe thead th {\n",
       "        text-align: right;\n",
       "    }\n",
       "</style>\n",
       "<table border=\"1\" class=\"dataframe\">\n",
       "  <thead>\n",
       "    <tr style=\"text-align: right;\">\n",
       "      <th></th>\n",
       "      <th>start_loc</th>\n",
       "      <th>end_loc</th>\n",
       "      <th>start_fmt_time</th>\n",
       "      <th>end_fmt_time</th>\n",
       "    </tr>\n",
       "  </thead>\n",
       "  <tbody>\n",
       "    <tr>\n",
       "      <th>0</th>\n",
       "      <td>{'type': 'Point', 'coordinates': [-1.6720301, ...</td>\n",
       "      <td>{'type': 'Point', 'coordinates': [-1.6733677, ...</td>\n",
       "      <td>2019-03-27T19:28:54.788000+01:00</td>\n",
       "      <td>2019-03-27T19:30:35+01:00</td>\n",
       "    </tr>\n",
       "    <tr>\n",
       "      <th>1</th>\n",
       "      <td>{'type': 'Point', 'coordinates': [3.0619455, 5...</td>\n",
       "      <td>{'type': 'Point', 'coordinates': [3.0654961, 5...</td>\n",
       "      <td>2019-04-19T12:44:01.458503+02:00</td>\n",
       "      <td>2019-04-19T12:59:11.300000+02:00</td>\n",
       "    </tr>\n",
       "    <tr>\n",
       "      <th>2</th>\n",
       "      <td>{'type': 'Point', 'coordinates': [3.0654961, 5...</td>\n",
       "      <td>{'type': 'Point', 'coordinates': [3.0558097, 5...</td>\n",
       "      <td>2019-04-19T17:15:54.152530+02:00</td>\n",
       "      <td>2019-04-19T17:20:26.112000+02:00</td>\n",
       "    </tr>\n",
       "    <tr>\n",
       "      <th>3</th>\n",
       "      <td>{'type': 'Point', 'coordinates': [3.0685092, 5...</td>\n",
       "      <td>{'type': 'Point', 'coordinates': [3.0702096, 5...</td>\n",
       "      <td>2019-04-25T12:12:41.083000+02:00</td>\n",
       "      <td>2019-04-25T12:15:51.942000+02:00</td>\n",
       "    </tr>\n",
       "    <tr>\n",
       "      <th>4</th>\n",
       "      <td>{'type': 'Point', 'coordinates': [3.0702096, 5...</td>\n",
       "      <td>{'type': 'Point', 'coordinates': [3.0654589, 5...</td>\n",
       "      <td>2019-04-25T14:13:09.264322+02:00</td>\n",
       "      <td>2019-04-25T14:23:23.195000+02:00</td>\n",
       "    </tr>\n",
       "  </tbody>\n",
       "</table>\n",
       "</div>"
      ],
      "text/plain": [
       "                                           start_loc  \\\n",
       "0  {'type': 'Point', 'coordinates': [-1.6720301, ...   \n",
       "1  {'type': 'Point', 'coordinates': [3.0619455, 5...   \n",
       "2  {'type': 'Point', 'coordinates': [3.0654961, 5...   \n",
       "3  {'type': 'Point', 'coordinates': [3.0685092, 5...   \n",
       "4  {'type': 'Point', 'coordinates': [3.0702096, 5...   \n",
       "\n",
       "                                             end_loc  \\\n",
       "0  {'type': 'Point', 'coordinates': [-1.6733677, ...   \n",
       "1  {'type': 'Point', 'coordinates': [3.0654961, 5...   \n",
       "2  {'type': 'Point', 'coordinates': [3.0558097, 5...   \n",
       "3  {'type': 'Point', 'coordinates': [3.0702096, 5...   \n",
       "4  {'type': 'Point', 'coordinates': [3.0654589, 5...   \n",
       "\n",
       "                     start_fmt_time                      end_fmt_time  \n",
       "0  2019-03-27T19:28:54.788000+01:00         2019-03-27T19:30:35+01:00  \n",
       "1  2019-04-19T12:44:01.458503+02:00  2019-04-19T12:59:11.300000+02:00  \n",
       "2  2019-04-19T17:15:54.152530+02:00  2019-04-19T17:20:26.112000+02:00  \n",
       "3  2019-04-25T12:12:41.083000+02:00  2019-04-25T12:15:51.942000+02:00  \n",
       "4  2019-04-25T14:13:09.264322+02:00  2019-04-25T14:23:23.195000+02:00  "
      ]
     },
     "execution_count": 16,
     "metadata": {},
     "output_type": "execute_result"
    }
   ],
   "source": [
    "ct_df[[\"start_loc\", \"end_loc\", \"start_fmt_time\", \"end_fmt_time\"]]"
   ]
  },
  {
   "cell_type": "code",
   "execution_count": 34,
   "metadata": {},
   "outputs": [
    {
     "data": {
      "text/html": [
       "<div>\n",
       "<style scoped>\n",
       "    .dataframe tbody tr th:only-of-type {\n",
       "        vertical-align: middle;\n",
       "    }\n",
       "\n",
       "    .dataframe tbody tr th {\n",
       "        vertical-align: top;\n",
       "    }\n",
       "\n",
       "    .dataframe thead th {\n",
       "        text-align: right;\n",
       "    }\n",
       "</style>\n",
       "<table border=\"1\" class=\"dataframe\">\n",
       "  <thead>\n",
       "    <tr style=\"text-align: right;\">\n",
       "      <th></th>\n",
       "      <th>start_loc</th>\n",
       "      <th>end_loc</th>\n",
       "      <th>start_ts</th>\n",
       "      <th>end_ts</th>\n",
       "    </tr>\n",
       "  </thead>\n",
       "  <tbody>\n",
       "    <tr>\n",
       "      <th>0</th>\n",
       "      <td>{'type': 'Point', 'coordinates': [5.3732571, 4...</td>\n",
       "      <td>{'type': 'Point', 'coordinates': [5.470528, 43...</td>\n",
       "      <td>1.548694e+09</td>\n",
       "      <td>1.548696e+09</td>\n",
       "    </tr>\n",
       "    <tr>\n",
       "      <th>1</th>\n",
       "      <td>{'type': 'Point', 'coordinates': [5.470528, 43...</td>\n",
       "      <td>{'type': 'Point', 'coordinates': [5.4705162, 4...</td>\n",
       "      <td>1.548696e+09</td>\n",
       "      <td>1.548698e+09</td>\n",
       "    </tr>\n",
       "    <tr>\n",
       "      <th>2</th>\n",
       "      <td>{'type': 'Point', 'coordinates': [5.4657783, 4...</td>\n",
       "      <td>{'type': 'Point', 'coordinates': [5.4703689, 4...</td>\n",
       "      <td>1.548874e+09</td>\n",
       "      <td>1.548876e+09</td>\n",
       "    </tr>\n",
       "    <tr>\n",
       "      <th>3</th>\n",
       "      <td>{'type': 'Point', 'coordinates': [5.4660641, 4...</td>\n",
       "      <td>{'type': 'Point', 'coordinates': [5.3736241, 4...</td>\n",
       "      <td>1.548919e+09</td>\n",
       "      <td>1.548921e+09</td>\n",
       "    </tr>\n",
       "  </tbody>\n",
       "</table>\n",
       "</div>"
      ],
      "text/plain": [
       "                                           start_loc  \\\n",
       "0  {'type': 'Point', 'coordinates': [5.3732571, 4...   \n",
       "1  {'type': 'Point', 'coordinates': [5.470528, 43...   \n",
       "2  {'type': 'Point', 'coordinates': [5.4657783, 4...   \n",
       "3  {'type': 'Point', 'coordinates': [5.4660641, 4...   \n",
       "\n",
       "                                             end_loc      start_ts  \\\n",
       "0  {'type': 'Point', 'coordinates': [5.470528, 43...  1.548694e+09   \n",
       "1  {'type': 'Point', 'coordinates': [5.4705162, 4...  1.548696e+09   \n",
       "2  {'type': 'Point', 'coordinates': [5.4703689, 4...  1.548874e+09   \n",
       "3  {'type': 'Point', 'coordinates': [5.3736241, 4...  1.548919e+09   \n",
       "\n",
       "         end_ts  \n",
       "0  1.548696e+09  \n",
       "1  1.548698e+09  \n",
       "2  1.548876e+09  \n",
       "3  1.548921e+09  "
      ]
     },
     "execution_count": 34,
     "metadata": {},
     "output_type": "execute_result"
    }
   ],
   "source": [
    "# Get all cleaned trips for the second user\n",
    "ct_df_2 = ts_2.get_data_df(\"analysis/cleaned_trip\", time_query=None)\n",
    "ct_df_2[[\"start_loc\", \"end_loc\", \"start_ts\", \"end_ts\"]]"
   ]
  },
  {
   "cell_type": "code",
   "execution_count": null,
   "metadata": {},
   "outputs": [],
   "source": [
    "# Get cleaned trips for the two users that started on 1st Aug UTC\n",
    "import arrow\n",
    "\n",
    "aug_1_tq = estt.TimeQuery(\"data.start_ts\",\n",
    "                          arrow.get(\"2017-08-01\").timestamp, # start of range\n",
    "                          arrow.get(\"2017-08-02\").timestamp)  # end of range\n",
    "ct_df = ts.get_data_df(\"analysis/cleaned_trip\", time_query=aug_1_tq)\n",
    "ct_df_2 = ts_2.get_data_df(\"analysis/cleaned_trip\", time_query=aug_1_tq)\n",
    "print(\"From %s -> %s, user %s had %d trips and user %s had %d trips\" %\n",
    "     (aug_1_tq.startTs, aug_1_tq.endTs, test_user_id, len(ct_df), test_user_id_2, len(ct_df_2)))"
   ]
  },
  {
   "cell_type": "code",
   "execution_count": null,
   "metadata": {
    "collapsed": true
   },
   "outputs": [],
   "source": [
    "cs_df = ts.get_data_df(\"analysis/cleaned_section\", time_query=None)"
   ]
  },
  {
   "cell_type": "code",
   "execution_count": null,
   "metadata": {},
   "outputs": [],
   "source": [
    "len(cs_df)"
   ]
  },
  {
   "cell_type": "code",
   "execution_count": null,
   "metadata": {},
   "outputs": [],
   "source": [
    "cs_df.columns"
   ]
  },
  {
   "cell_type": "code",
   "execution_count": null,
   "metadata": {},
   "outputs": [],
   "source": [
    "cs_df[[\"start_loc\", \"end_loc\", \"start_ts\", \"end_ts\", \"sensed_mode\"]]"
   ]
  },
  {
   "cell_type": "markdown",
   "metadata": {},
   "source": [
    "### Direct mongodb queries"
   ]
  },
  {
   "cell_type": "markdown",
   "metadata": {},
   "source": [
    "You can also use direct mongodb queries during exploratory work. I do ask that you create a storage decorator (`emission/storage/decorations`) when you submit a pull request for ongoing use"
   ]
  },
  {
   "cell_type": "code",
   "execution_count": 21,
   "metadata": {},
   "outputs": [],
   "source": [
    "import emission.core.get_database as edb"
   ]
  },
  {
   "cell_type": "code",
   "execution_count": 22,
   "metadata": {},
   "outputs": [
    {
     "data": {
      "text/plain": [
       "{'_id': ObjectId('5c49e7944e276d05c81a293b'),\n",
       " 'user_id': '',\n",
       " 'metadata': {'key': 'stats/server_api_time',\n",
       "  'platform': 'server',\n",
       "  'write_ts': 1548347284.757146,\n",
       "  'time_zone': 'America/Los_Angeles',\n",
       "  'write_local_dt': {'year': 2019,\n",
       "   'month': 1,\n",
       "   'day': 24,\n",
       "   'hour': 8,\n",
       "   'minute': 28,\n",
       "   'second': 4,\n",
       "   'weekday': 3,\n",
       "   'timezone': 'America/Los_Angeles'},\n",
       "  'write_fmt_time': '2019-01-24T08:28:04.757146-08:00'},\n",
       " 'data': {'name': 'GET_/',\n",
       "  'ts': 1548347284.75363,\n",
       "  'reading': 0.02602386474609375}}"
      ]
     },
     "execution_count": 22,
     "metadata": {},
     "output_type": "execute_result"
    }
   ],
   "source": [
    "edb.get_timeseries_db().find_one()"
   ]
  },
  {
   "cell_type": "code",
   "execution_count": 23,
   "metadata": {},
   "outputs": [
    {
     "data": {
      "text/plain": [
       "['stats/server_api_time',\n",
       " 'background/location',\n",
       " 'background/filtered_location',\n",
       " 'statemachine/transition',\n",
       " 'background/motion_activity',\n",
       " 'stats/pipeline_time',\n",
       " 'stats/client_nav_event',\n",
       " 'background/battery',\n",
       " 'stats/client_time',\n",
       " 'config/consent',\n",
       " 'stats/client_error',\n",
       " 'stats/server_api_error']"
      ]
     },
     "execution_count": 23,
     "metadata": {},
     "output_type": "execute_result"
    }
   ],
   "source": [
    "edb.get_timeseries_db().distinct(\"metadata.key\")"
   ]
  },
  {
   "cell_type": "markdown",
   "metadata": {},
   "source": [
    "Note that in this case, you need to know whether to use the `timeseries` or the `analysis_timeseries` collection"
   ]
  },
  {
   "cell_type": "code",
   "execution_count": 24,
   "metadata": {},
   "outputs": [
    {
     "data": {
      "text/plain": [
       "['segmentation/raw_trip',\n",
       " 'segmentation/raw_place',\n",
       " 'segmentation/raw_section',\n",
       " 'segmentation/raw_stop',\n",
       " 'analysis/smoothing',\n",
       " 'analysis/recreated_location',\n",
       " 'analysis/cleaned_section',\n",
       " 'analysis/cleaned_stop',\n",
       " 'analysis/cleaned_place',\n",
       " 'analysis/cleaned_trip',\n",
       " 'segmentation/raw_untracked',\n",
       " 'analysis/cleaned_untracked',\n",
       " 'inference/prediction',\n",
       " 'analysis/inferred_section']"
      ]
     },
     "execution_count": 24,
     "metadata": {},
     "output_type": "execute_result"
    }
   ],
   "source": [
    "edb.get_analysis_timeseries_db().distinct(\"metadata.key\")"
   ]
  },
  {
   "cell_type": "code",
   "execution_count": 26,
   "metadata": {},
   "outputs": [
    {
     "data": {
      "text/plain": [
       "4"
      ]
     },
     "execution_count": 26,
     "metadata": {},
     "output_type": "execute_result"
    }
   ],
   "source": [
    "edb.get_analysis_timeseries_db().find({\"user_id\": test_user_id_2, \"metadata.key\": \"analysis/cleaned_trip\"}).count()"
   ]
  },
  {
   "cell_type": "markdown",
   "metadata": {},
   "source": [
    "In particular, you can use this to access entries that are not in the timeseries"
   ]
  },
  {
   "cell_type": "code",
   "execution_count": 27,
   "metadata": {},
   "outputs": [
    {
     "data": {
      "text/plain": [
       "[UUID('40267d4c-5fe9-423c-b18d-cde3d09c68c2'),\n",
       " UUID('d0cbf849-f9b1-4ba1-83be-1a148ec56a1e'),\n",
       " UUID('91bc554a-4228-4afd-b2ca-be8eb7e33760')]"
      ]
     },
     "execution_count": 27,
     "metadata": {},
     "output_type": "execute_result"
    }
   ],
   "source": [
    "edb.get_uuid_db().distinct(\"uuid\")"
   ]
  },
  {
   "cell_type": "markdown",
   "metadata": {},
   "source": [
    "### Timeline"
   ]
  },
  {
   "cell_type": "markdown",
   "metadata": {},
   "source": [
    "The trips and places maintain links to each other - e.g. `start_place`, `end_place`"
   ]
  },
  {
   "cell_type": "code",
   "execution_count": null,
   "metadata": {},
   "outputs": [],
   "source": [
    "ct_df[[\"start_place\", \"end_place\"]]"
   ]
  },
  {
   "cell_type": "markdown",
   "metadata": {},
   "source": [
    "These are _primary key links_ to other entries in the database. It would be useful to have a doubly linked list representing this properly. The Timeline helps with that."
   ]
  },
  {
   "cell_type": "code",
   "execution_count": null,
   "metadata": {
    "collapsed": true
   },
   "outputs": [],
   "source": [
    "import emission.storage.decorations.timeline as esdl"
   ]
  },
  {
   "cell_type": "code",
   "execution_count": null,
   "metadata": {},
   "outputs": [],
   "source": [
    "trip_start_end_fuzz = 10 # seconds\n",
    "ct_df = ts.get_data_df(\"analysis/cleaned_trip\", time_query=None)\n",
    "tl = esdl.get_cleaned_timeline(test_user_id, ct_df.iloc[0].start_ts - trip_start_end_fuzz, ct_df.iloc[-1].end_ts + trip_start_end_fuzz)"
   ]
  },
  {
   "cell_type": "code",
   "execution_count": null,
   "metadata": {},
   "outputs": [],
   "source": [
    "for e in tl:\n",
    "    if 'enter_ts' in e.data:\n",
    "        # Must be place-like\n",
    "        print(e.metadata.key, e.data.enter_fmt_time, \"->\", e.data.exit_fmt_time)\n",
    "    else:\n",
    "        print(e.metadata.key, e.data.start_fmt_time, \"->\", e.data.end_fmt_time)"
   ]
  },
  {
   "cell_type": "code",
   "execution_count": null,
   "metadata": {},
   "outputs": [],
   "source": [
    "# The timeline is an iterator, so after it is consumed, it is empty\n",
    "for e in tl:\n",
    "    if 'enter_ts' in e.data:\n",
    "        # Must be place-like\n",
    "        print(e.metadata.key, e.data.enter_fmt_time, \"->\", e.data.exit_fmt_time)\n",
    "    else:\n",
    "        print(e.metadata.key, e.data.start_fmt_time, \"->\", e.data.end_fmt_time)"
   ]
  },
  {
   "cell_type": "code",
   "execution_count": null,
   "metadata": {
    "collapsed": true
   },
   "outputs": [],
   "source": [
    "stl = esdt.get_cleaned_timeline_for_trip(test_user_id, tl.first_trip().get_id())"
   ]
  },
  {
   "cell_type": "code",
   "execution_count": null,
   "metadata": {},
   "outputs": [],
   "source": [
    "for e in stl:\n",
    "    print(e.metadata.key)"
   ]
  },
  {
   "cell_type": "code",
   "execution_count": null,
   "metadata": {
    "collapsed": true
   },
   "outputs": [],
   "source": [
    "stl = esdt.get_cleaned_timeline_for_trip(test_user_id, tl.last_trip().get_id())"
   ]
  },
  {
   "cell_type": "code",
   "execution_count": null,
   "metadata": {},
   "outputs": [],
   "source": [
    "for e in stl:\n",
    "    print(e.metadata.key)"
   ]
  },
  {
   "cell_type": "markdown",
   "metadata": {
    "collapsed": true
   },
   "source": [
    "## Getting trip and section details ##"
   ]
  },
  {
   "cell_type": "markdown",
   "metadata": {},
   "source": [
    "Once we have trip and section objects, we can retrieve the sensed data associated with them by querying for data in various streams that falls within the time ranges associated with the trip/section. Here again, our architecture of storing the analysis results as a separate datastream makes it easy to retrieve data at various levels of processing."
   ]
  },
  {
   "cell_type": "markdown",
   "metadata": {},
   "source": [
    "### Plot a processed trip or set of trips ###"
   ]
  },
  {
   "cell_type": "code",
   "execution_count": 17,
   "metadata": {},
   "outputs": [
    {
     "name": "stdout",
     "output_type": "stream",
     "text": [
      "analysis.debug.conf.json not configured, falling back to sample, default configuration\n"
     ]
    }
   ],
   "source": [
    "import emission.analysis.plotting.geojson.geojson_feature_converter as gfc\n",
    "import emission.analysis.plotting.leaflet_osm.our_plotter as lo"
   ]
  },
  {
   "cell_type": "code",
   "execution_count": 18,
   "metadata": {},
   "outputs": [],
   "source": [
    "first_trip_for_user = ct_df.iloc[2]\n",
    "first_trip_start_ts = first_trip_for_user.start_ts\n",
    "first_trip_end_ts = first_trip_for_user.end_ts\n",
    "trip_start_end_fuzz = 10 # seconds\n",
    "trips_geojson_list = gfc.get_geojson_for_ts(test_user_id, first_trip_start_ts-trip_start_end_fuzz, ct_df.iloc[-1].end_ts+trip_start_end_fuzz)"
   ]
  },
  {
   "cell_type": "code",
   "execution_count": 19,
   "metadata": {
    "scrolled": true
   },
   "outputs": [
    {
     "data": {
      "text/plain": [
       "3"
      ]
     },
     "execution_count": 19,
     "metadata": {},
     "output_type": "execute_result"
    }
   ],
   "source": [
    "len(trips_geojson_list)"
   ]
  },
  {
   "cell_type": "code",
   "execution_count": 20,
   "metadata": {},
   "outputs": [
    {
     "name": "stdout",
     "output_type": "stream",
     "text": [
      "start_place 5cbefade4e276d76770075b7\n",
      "end_place 5cc1b36c4e276dea15c700f0\n",
      "section 5cc1b36c4e276dea15c700c0\n",
      "start_place 5cc1b36d4e276dea15c700f1\n",
      "end_place 5cc1b36d4e276dea15c700f2\n",
      "section 5cc1b36c4e276dea15c700ce\n",
      "start_place 5cc1b36d4e276dea15c700f2\n",
      "end_place 5cc1b36d4e276dea15c700f3\n",
      "section 5cc1b36c4e276dea15c700d9\n"
     ]
    }
   ],
   "source": [
    "map_list = lo.get_maps_for_geojson_trip_list(trips_geojson_list)"
   ]
  },
  {
   "cell_type": "code",
   "execution_count": 21,
   "metadata": {},
   "outputs": [
    {
     "data": {
      "text/plain": [
       "3"
      ]
     },
     "execution_count": 21,
     "metadata": {},
     "output_type": "execute_result"
    }
   ],
   "source": [
    "len(map_list)"
   ]
  },
  {
   "cell_type": "code",
   "execution_count": 22,
   "metadata": {},
   "outputs": [
    {
     "data": {
      "text/html": [
       "<div style=\"width:100%;\"><div style=\"position:relative;width:100%;height:0;padding-bottom:60%;\"><iframe src=\"data:text/html;charset=utf-8;base64,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\" style=\"position:absolute;width:100%;height:100%;left:0;top:0;border:none !important;\" allowfullscreen webkitallowfullscreen mozallowfullscreen></iframe></div></div>"
      ],
      "text/plain": [
       "<folium.folium.Map at 0x7f00661121d0>"
      ]
     },
     "execution_count": 22,
     "metadata": {},
     "output_type": "execute_result"
    }
   ],
   "source": [
    "map_list[2]"
   ]
  },
  {
   "cell_type": "code",
   "execution_count": 36,
   "metadata": {},
   "outputs": [
    {
     "data": {
      "text/html": [
       "<div style=\"width:100%;\"><div style=\"position:relative;width:100%;height:0;padding-bottom:60%;\"><iframe src=\"data:text/html;charset=utf-8;base64,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\" style=\"position:absolute;width:100%;height:100%;left:0;top:0;border:none !important;\" allowfullscreen webkitallowfullscreen mozallowfullscreen></iframe></div></div>"
      ],
      "text/plain": [
       "<folium.folium.Map at 0x7f006601e940>"
      ]
     },
     "execution_count": 36,
     "metadata": {},
     "output_type": "execute_result"
    }
   ],
   "source": [
    "map_list[0]"
   ]
  },
  {
   "cell_type": "code",
   "execution_count": 32,
   "metadata": {},
   "outputs": [],
   "source": [
    "import branca.element as bre"
   ]
  },
  {
   "cell_type": "code",
   "execution_count": 33,
   "metadata": {},
   "outputs": [
    {
     "data": {
      "text/html": [
       "<div style=\"width:100%;\"><div style=\"position:relative;width:100%;height:0;padding-bottom:60%;\"><iframe src=\"data:text/html;charset=utf-8;base64,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\" style=\"position:absolute;width:100%;height:100%;left:0;top:0;border:none !important;\" allowfullscreen webkitallowfullscreen mozallowfullscreen></iframe></div></div>"
      ],
      "text/plain": [
       "<branca.element.Figure at 0x7f00660cda90>"
      ]
     },
     "execution_count": 33,
     "metadata": {},
     "output_type": "execute_result"
    }
   ],
   "source": [
    "nrows = 2\n",
    "ncols = 3\n",
    "fig = bre.Figure()\n",
    "for i, m in enumerate(map_list[:6]):\n",
    "    fig.add_subplot(nrows,ncols,i+1).add_child(m)\n",
    "fig"
   ]
  },
  {
   "cell_type": "code",
   "execution_count": 34,
   "metadata": {},
   "outputs": [
    {
     "data": {
      "text/html": [
       "<div style=\"width:100%;\"><div style=\"position:relative;width:100%;height:0;padding-bottom:60%;\"><iframe src=\"data:text/html;charset=utf-8;base64,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\" style=\"position:absolute;width:100%;height:100%;left:0;top:0;border:none !important;\" allowfullscreen webkitallowfullscreen mozallowfullscreen></iframe></div></div>"
      ],
      "text/plain": [
       "<branca.element.Figure at 0x7f0065f2bb00>"
      ]
     },
     "execution_count": 34,
     "metadata": {},
     "output_type": "execute_result"
    }
   ],
   "source": [
    "nrows = 2\n",
    "ncols = 3\n",
    "fig = bre.Figure()\n",
    "for i, map in enumerate(map_list[-6:]):\n",
    "    fig.add_subplot(nrows,ncols,i+1).add_child(map)\n",
    "fig"
   ]
  },
  {
   "cell_type": "markdown",
   "metadata": {},
   "source": [
    "## Can you do better? ##"
   ]
  },
  {
   "cell_type": "markdown",
   "metadata": {},
   "source": [
    "\n",
    "### Get locations with no processing, basic filtering and resampling for the first trip ###"
   ]
  },
  {
   "cell_type": "code",
   "execution_count": 25,
   "metadata": {},
   "outputs": [
    {
     "name": "stdout",
     "output_type": "stream",
     "text": [
      "Locations go from all = 11 -> filtered = 10 -> resampled = 5\n"
     ]
    }
   ],
   "source": [
    "all_locs = ts.get_data_df(\"background/location\",\n",
    "                               time_query = esda.get_time_query_for_trip_like(\n",
    "                                   \"analysis/cleaned_section\", ct_df.iloc[0]._id))\n",
    "\n",
    "filtered_locs = ts.get_data_df(\"background/filtered_location\",\n",
    "                               time_query = esda.get_time_query_for_trip_like(\n",
    "                                   \"analysis/cleaned_section\", ct_df.iloc[0]._id))\n",
    "\n",
    "resampled_locs = ts.get_data_df(\"analysis/recreated_location\",\n",
    "                                 time_query = esda.get_time_query_for_trip_like(\n",
    "                                   \"analysis/cleaned_section\", ct_df.iloc[0]._id))\n",
    "print(\"Locations go from all = %d -> filtered = %d -> resampled = %d\" % (len(all_locs),\n",
    "                                                                         len(filtered_locs),\n",
    "                                                                         len(resampled_locs)))"
   ]
  },
  {
   "cell_type": "code",
   "execution_count": 26,
   "metadata": {},
   "outputs": [
    {
     "data": {
      "text/html": [
       "<div>\n",
       "<style scoped>\n",
       "    .dataframe tbody tr th:only-of-type {\n",
       "        vertical-align: middle;\n",
       "    }\n",
       "\n",
       "    .dataframe tbody tr th {\n",
       "        vertical-align: top;\n",
       "    }\n",
       "\n",
       "    .dataframe thead th {\n",
       "        text-align: right;\n",
       "    }\n",
       "</style>\n",
       "<table border=\"1\" class=\"dataframe\">\n",
       "  <thead>\n",
       "    <tr style=\"text-align: right;\">\n",
       "      <th></th>\n",
       "      <th>_id</th>\n",
       "      <th>latitude</th>\n",
       "      <th>longitude</th>\n",
       "      <th>fmt_time</th>\n",
       "    </tr>\n",
       "  </thead>\n",
       "  <tbody>\n",
       "    <tr>\n",
       "      <th>0</th>\n",
       "      <td>5cbece743070fe2fdf38d3c2</td>\n",
       "      <td>48.104440</td>\n",
       "      <td>-1.672030</td>\n",
       "      <td>2019-03-27T19:28:54.788000+01:00</td>\n",
       "    </tr>\n",
       "    <tr>\n",
       "      <th>1</th>\n",
       "      <td>5cbece743070fe2fdf38d3bc</td>\n",
       "      <td>48.104440</td>\n",
       "      <td>-1.672030</td>\n",
       "      <td>2019-03-27T19:28:54.788000+01:00</td>\n",
       "    </tr>\n",
       "    <tr>\n",
       "      <th>2</th>\n",
       "      <td>5cbece743070fe2fdf38d3ca</td>\n",
       "      <td>48.104429</td>\n",
       "      <td>-1.671971</td>\n",
       "      <td>2019-03-27T19:29:01+01:00</td>\n",
       "    </tr>\n",
       "    <tr>\n",
       "      <th>3</th>\n",
       "      <td>5cbece743070fe2fdf38d3d0</td>\n",
       "      <td>48.104437</td>\n",
       "      <td>-1.671968</td>\n",
       "      <td>2019-03-27T19:29:05.125000+01:00</td>\n",
       "    </tr>\n",
       "    <tr>\n",
       "      <th>4</th>\n",
       "      <td>5cbece743070fe2fdf38d3d6</td>\n",
       "      <td>48.104419</td>\n",
       "      <td>-1.671956</td>\n",
       "      <td>2019-03-27T19:29:10.146000+01:00</td>\n",
       "    </tr>\n",
       "    <tr>\n",
       "      <th>5</th>\n",
       "      <td>5cbece743070fe2fdf38d3de</td>\n",
       "      <td>48.104459</td>\n",
       "      <td>-1.671972</td>\n",
       "      <td>2019-03-27T19:29:17+01:00</td>\n",
       "    </tr>\n",
       "    <tr>\n",
       "      <th>6</th>\n",
       "      <td>5cbece743070fe2fdf38d3e4</td>\n",
       "      <td>48.104472</td>\n",
       "      <td>-1.672020</td>\n",
       "      <td>2019-03-27T19:29:22+01:00</td>\n",
       "    </tr>\n",
       "    <tr>\n",
       "      <th>7</th>\n",
       "      <td>5cbece743070fe2fdf38d3ea</td>\n",
       "      <td>48.104472</td>\n",
       "      <td>-1.672100</td>\n",
       "      <td>2019-03-27T19:29:27+01:00</td>\n",
       "    </tr>\n",
       "    <tr>\n",
       "      <th>8</th>\n",
       "      <td>5cbece743070fe2fdf38d3f0</td>\n",
       "      <td>48.104443</td>\n",
       "      <td>-1.672207</td>\n",
       "      <td>2019-03-27T19:29:32+01:00</td>\n",
       "    </tr>\n",
       "    <tr>\n",
       "      <th>9</th>\n",
       "      <td>5cbece743070fe2fdf38d3fe</td>\n",
       "      <td>48.104408</td>\n",
       "      <td>-1.672752</td>\n",
       "      <td>2019-03-27T19:30:06+01:00</td>\n",
       "    </tr>\n",
       "    <tr>\n",
       "      <th>10</th>\n",
       "      <td>5cbece743070fe2fdf38d404</td>\n",
       "      <td>48.104307</td>\n",
       "      <td>-1.673368</td>\n",
       "      <td>2019-03-27T19:30:35+01:00</td>\n",
       "    </tr>\n",
       "  </tbody>\n",
       "</table>\n",
       "</div>"
      ],
      "text/plain": [
       "                         _id   latitude  longitude  \\\n",
       "0   5cbece743070fe2fdf38d3c2  48.104440  -1.672030   \n",
       "1   5cbece743070fe2fdf38d3bc  48.104440  -1.672030   \n",
       "2   5cbece743070fe2fdf38d3ca  48.104429  -1.671971   \n",
       "3   5cbece743070fe2fdf38d3d0  48.104437  -1.671968   \n",
       "4   5cbece743070fe2fdf38d3d6  48.104419  -1.671956   \n",
       "5   5cbece743070fe2fdf38d3de  48.104459  -1.671972   \n",
       "6   5cbece743070fe2fdf38d3e4  48.104472  -1.672020   \n",
       "7   5cbece743070fe2fdf38d3ea  48.104472  -1.672100   \n",
       "8   5cbece743070fe2fdf38d3f0  48.104443  -1.672207   \n",
       "9   5cbece743070fe2fdf38d3fe  48.104408  -1.672752   \n",
       "10  5cbece743070fe2fdf38d404  48.104307  -1.673368   \n",
       "\n",
       "                            fmt_time  \n",
       "0   2019-03-27T19:28:54.788000+01:00  \n",
       "1   2019-03-27T19:28:54.788000+01:00  \n",
       "2          2019-03-27T19:29:01+01:00  \n",
       "3   2019-03-27T19:29:05.125000+01:00  \n",
       "4   2019-03-27T19:29:10.146000+01:00  \n",
       "5          2019-03-27T19:29:17+01:00  \n",
       "6          2019-03-27T19:29:22+01:00  \n",
       "7          2019-03-27T19:29:27+01:00  \n",
       "8          2019-03-27T19:29:32+01:00  \n",
       "9          2019-03-27T19:30:06+01:00  \n",
       "10         2019-03-27T19:30:35+01:00  "
      ]
     },
     "execution_count": 26,
     "metadata": {},
     "output_type": "execute_result"
    }
   ],
   "source": [
    "all_locs[[\"_id\", \"latitude\", \"longitude\", \"fmt_time\"]]"
   ]
  },
  {
   "cell_type": "markdown",
   "metadata": {},
   "source": [
    "### Get the raw motion activity, in case you want to do different segmentation ###"
   ]
  },
  {
   "cell_type": "code",
   "execution_count": 27,
   "metadata": {},
   "outputs": [],
   "source": [
    "all_activity = ts.get_data_df(\"background/motion_activity\",\n",
    "                               esda.get_time_query_for_trip_like(\n",
    "                                   \"analysis/cleaned_section\", ct_df.iloc[0]._id))"
   ]
  },
  {
   "cell_type": "code",
   "execution_count": 28,
   "metadata": {},
   "outputs": [
    {
     "data": {
      "text/plain": [
       "Index(['_id', 'confidence', 'fmt_time', 'local_dt_day', 'local_dt_hour',\n",
       "       'local_dt_minute', 'local_dt_month', 'local_dt_second',\n",
       "       'local_dt_timezone', 'local_dt_weekday', 'local_dt_year',\n",
       "       'metadata_write_ts', 'ts', 'type', 'user_id'],\n",
       "      dtype='object')"
      ]
     },
     "execution_count": 28,
     "metadata": {},
     "output_type": "execute_result"
    }
   ],
   "source": [
    "all_activity.columns"
   ]
  },
  {
   "cell_type": "code",
   "execution_count": 29,
   "metadata": {},
   "outputs": [
    {
     "name": "stdout",
     "output_type": "stream",
     "text": [
      "Found 0 walking entries, 12 on_foot entries\n",
      "Found 0 motorized entries\n"
     ]
    }
   ],
   "source": [
    "import emission.core.wrapper.motionactivity as ecwm\n",
    "\n",
    "print(\"Found %d walking entries, %d on_foot entries\" % (len(all_activity[all_activity.type == ecwm.MotionTypes.WALKING.value]), \n",
    "                                    len(all_activity[all_activity.type == ecwm.MotionTypes.ON_FOOT.value])))\n",
    "print(\"Found %d motorized entries\" % (len(all_activity[all_activity.type == ecwm.MotionTypes.IN_VEHICLE.value])))"
   ]
  },
  {
   "cell_type": "markdown",
   "metadata": {},
   "source": [
    "### Plot the location points ###"
   ]
  },
  {
   "cell_type": "code",
   "execution_count": 30,
   "metadata": {},
   "outputs": [
    {
     "name": "stdout",
     "output_type": "stream",
     "text": [
      "Found 11 features from 11 points\n",
      "Found 10 features from 10 points\n",
      "Found 5 features from 5 points\n",
      "Points are  [[48.10444, -1.6720301], [48.10444, -1.6720301], [48.1044294, -1.6719714], [48.1044367, -1.6719678], [48.1044186, -1.6719558]] ...\n",
      "Linestring is [[48.10444, -1.6720301], [48.10444, -1.6720301], [48.1044294, -1.6719714], [48.1044367, -1.6719678], [48.1044186, -1.6719558]] ...\n",
      "Points are  [[48.10444, -1.6720301], [48.1044294, -1.6719714], [48.1044367, -1.6719678], [48.1044186, -1.6719558], [48.1044593, -1.6719724]] ...\n",
      "Linestring is [[48.10444, -1.6720301], [48.1044294, -1.6719714], [48.1044367, -1.6719678], [48.1044186, -1.6719558], [48.1044593, -1.6719724]] ...\n",
      "Points are  [[48.10444, -1.6720301], [48.10447164423999, -1.672065108001709], [48.10441910771754, -1.6725722090722983], [48.10434219550308, -1.6731507830367516], [48.1043067, -1.6733677]] ...\n",
      "Linestring is [[48.10444, -1.6720301], [48.10447164423999, -1.672065108001709], [48.10441910771754, -1.6725722090722983], [48.10434219550308, -1.6731507830367516], [48.1043067, -1.6733677]] ...\n"
     ]
    }
   ],
   "source": [
    "map_list = lo.get_maps_for_geojson_unsectioned([gfc.get_feature_list_from_df(all_locs),\n",
    "                                                gfc.get_feature_list_from_df(filtered_locs),\n",
    "                                                gfc.get_feature_list_from_df(resampled_locs)])"
   ]
  },
  {
   "cell_type": "code",
   "execution_count": 35,
   "metadata": {},
   "outputs": [
    {
     "data": {
      "text/html": [
       "<div style=\"width:100%;\"><div style=\"position:relative;width:100%;height:0;padding-bottom:60%;\"><iframe src=\"data:text/html;charset=utf-8;base64,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\" style=\"position:absolute;width:100%;height:100%;left:0;top:0;border:none !important;\" allowfullscreen webkitallowfullscreen mozallowfullscreen></iframe></div></div>"
      ],
      "text/plain": [
       "<branca.element.Figure at 0x7f00660cd6a0>"
      ]
     },
     "execution_count": 35,
     "metadata": {},
     "output_type": "execute_result"
    }
   ],
   "source": [
    "fig = bre.Figure()\n",
    "for i, map in enumerate(map_list):\n",
    "    fig.add_subplot(1,3,i+1).add_child(map)\n",
    "fig"
   ]
  },
  {
   "cell_type": "code",
   "execution_count": null,
   "metadata": {
    "collapsed": true
   },
   "outputs": [],
   "source": []
  }
 ],
 "metadata": {
  "kernelspec": {
   "display_name": "Python 3",
   "language": "python",
   "name": "python3"
  },
  "language_info": {
   "codemirror_mode": {
    "name": "ipython",
    "version": 3
   },
   "file_extension": ".py",
   "mimetype": "text/x-python",
   "name": "python",
   "nbconvert_exporter": "python",
   "pygments_lexer": "ipython3",
   "version": "3.6.8"
  }
 },
 "nbformat": 4,
 "nbformat_minor": 1
}
